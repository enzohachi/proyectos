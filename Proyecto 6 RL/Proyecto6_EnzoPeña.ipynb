{
  "nbformat": 4,
  "nbformat_minor": 0,
  "metadata": {
    "colab": {
      "name": "Proyecto6_EnzoPeña.ipynb",
      "provenance": []
    },
    "kernelspec": {
      "name": "python3",
      "display_name": "Python 3"
    }
  },
  "cells": [
    {
      "cell_type": "code",
      "metadata": {
        "id": "r_t_yl9TTl3Q",
        "colab_type": "code",
        "outputId": "0d5fe771-bdc0-44f6-c0f5-57ced8fbdbff",
        "colab": {
          "base_uri": "https://localhost:8080/",
          "height": 34
        }
      },
      "source": [
        "from google.colab import drive\n",
        "drive.mount('/content/drive')"
      ],
      "execution_count": 0,
      "outputs": [
        {
          "output_type": "stream",
          "text": [
            "Drive already mounted at /content/drive; to attempt to forcibly remount, call drive.mount(\"/content/drive\", force_remount=True).\n"
          ],
          "name": "stdout"
        }
      ]
    },
    {
      "cell_type": "markdown",
      "metadata": {
        "id": "PQzAvfLx_obv",
        "colab_type": "text"
      },
      "source": [
        "## Importar Librerias y leer archivo de datos"
      ]
    },
    {
      "cell_type": "code",
      "metadata": {
        "id": "If77bhHxUEQg",
        "colab_type": "code",
        "colab": {}
      },
      "source": [
        "#Importando librerias\n",
        "\n",
        "import pandas as pd\n",
        "import missingno as msno\n",
        "import numpy as np\n",
        "import scipy.stats.mstats as mstats\n",
        "import matplotlib.pyplot as plt\n",
        "import seaborn as sns\n",
        "from scipy import stats\n",
        "from mpl_toolkits.mplot3d import Axes3D\n",
        "from matplotlib import cm\n",
        "from sklearn import linear_model\n",
        "from sklearn.metrics import mean_squared_error, r2_score\n",
        "import statsmodels.api as sm"
      ],
      "execution_count": 0,
      "outputs": []
    },
    {
      "cell_type": "code",
      "metadata": {
        "id": "eQT_XNhbUJsQ",
        "colab_type": "code",
        "colab": {}
      },
      "source": [
        "# Leer archivos de datos\n",
        "\n",
        "creditos=pd.read_csv (\"/content/drive/My Drive/proyecto6/Credit.csv\")\n"
      ],
      "execution_count": 0,
      "outputs": []
    },
    {
      "cell_type": "markdown",
      "metadata": {
        "id": "iKPdOmwhfez1",
        "colab_type": "text"
      },
      "source": [
        ""
      ]
    },
    {
      "cell_type": "markdown",
      "metadata": {
        "id": "xXCMhH8d_wjD",
        "colab_type": "text"
      },
      "source": [
        "# Punto 1"
      ]
    },
    {
      "cell_type": "markdown",
      "metadata": {
        "id": "b_wXzdoufkhv",
        "colab_type": "text"
      },
      "source": [
        "## Revisar presencia de datos nulos.\n"
      ]
    },
    {
      "cell_type": "code",
      "metadata": {
        "id": "OqfDx7iDUfEQ",
        "colab_type": "code",
        "outputId": "dcc16b4d-447d-4299-e456-d87e38bac67b",
        "colab": {
          "base_uri": "https://localhost:8080/",
          "height": 531
        }
      },
      "source": [
        "msno.matrix(creditos,figsize = (14,8), fontsize = 10);"
      ],
      "execution_count": 0,
      "outputs": [
        {
          "output_type": "display_data",
          "data": {
            "image/png": "[encoded data removed]",
            "text/plain": [
              "<Figure size 1008x576 with 2 Axes>"
            ]
          },
          "metadata": {
            "tags": []
          }
        }
      ]
    },
    {
      "cell_type": "markdown",
      "metadata": {
        "id": "dLre9j2Pe6j4",
        "colab_type": "text"
      },
      "source": [
        "Como se puede observar visualmente gracias a missigno, no existe presencia de datos nulos en la base de datos por los que no es necesario darle un tratamiento especial."
      ]
    },
    {
      "cell_type": "markdown",
      "metadata": {
        "id": "gwcZf2e5iPp8",
        "colab_type": "text"
      },
      "source": [
        "##  Identificación de variables categóricas y cuantitativas en la base de datos"
      ]
    },
    {
      "cell_type": "markdown",
      "metadata": {
        "id": "KPeTr9eagvGC",
        "colab_type": "text"
      },
      "source": [
        "\n",
        "\n",
        "*   **Income:** Cuantitativo\n",
        "*   **Limit:** Cuantitativo\n",
        "*   **Rating:** Cuantitativo\n",
        "*   **Cards:** Cuantitativo\n",
        "*   **Age:** Cuantitativo\n",
        "*   **Education:** Categorico\n",
        "*   **Gender:** Categorico\n",
        "*   **Student:** Categorico\n",
        "*   **Married:** Categorico\n",
        "*   **Ethnicity:** Categorico\n",
        "*   **Balance:** Cuantitativo\n",
        "\n",
        "\n",
        "\n",
        "\n",
        "\n"
      ]
    },
    {
      "cell_type": "markdown",
      "metadata": {
        "id": "Qk9Aly9kABL4",
        "colab_type": "text"
      },
      "source": [
        "# Punto 2"
      ]
    },
    {
      "cell_type": "markdown",
      "metadata": {
        "id": "_MsieWp2io9c",
        "colab_type": "text"
      },
      "source": [
        "## Ver datos Outliers"
      ]
    },
    {
      "cell_type": "code",
      "metadata": {
        "id": "RCh0kuTlWE1e",
        "colab_type": "code",
        "outputId": "068f3b50-181d-4b04-d5db-8b2bb0274063",
        "colab": {
          "base_uri": "https://localhost:8080/",
          "height": 744
        }
      },
      "source": [
        "col_creditos = creditos[['Unnamed: 0','Income', 'Limit', 'Rating', 'Cards',\"Age\",\"Education\",\"Balance\"]]\n",
        "for i, col in enumerate(col_creditos):\n",
        "    plt.figure(figsize=(15,8))\n",
        "    plt.subplot(8,1,i+1)\n",
        "    sns.boxplot(col_creditos[col])\n"
      ],
      "execution_count": 0,
      "outputs": [
        {
          "output_type": "display_data",
          "data": {
            "image/png": "[encoded data removed]",
            "text/plain": [
              "<Figure size 1080x576 with 1 Axes>"
            ]
          },
          "metadata": {
            "tags": []
          }
        },
        {
          "output_type": "display_data",
          "data": {
            "image/png": "[encoded data removed]",
            "text/plain": [
              "<Figure size 1080x576 with 1 Axes>"
            ]
          },
          "metadata": {
            "tags": []
          }
        },
        {
          "output_type": "display_data",
          "data": {
            "image/png": "[encoded data removed]",
            "text/plain": [
              "<Figure size 1080x576 with 1 Axes>"
            ]
          },
          "metadata": {
            "tags": []
          }
        },
        {
          "output_type": "display_data",
          "data": {
            "image/png": "[encoded data removed]",
            "text/plain": [
              "<Figure size 1080x576 with 1 Axes>"
            ]
          },
          "metadata": {
            "tags": []
          }
        },
        {
          "output_type": "display_data",
          "data": {
            "image/png": "[encoded data removed]",
            "text/plain": [
              "<Figure size 1080x576 with 1 Axes>"
            ]
          },
          "metadata": {
            "tags": []
          }
        },
        {
          "output_type": "display_data",
          "data": {
            "image/png": "[encoded data removed]",
            "text/plain": [
              "<Figure size 1080x576 with 1 Axes>"
            ]
          },
          "metadata": {
            "tags": []
          }
        },
        {
          "output_type": "display_data",
          "data": {
            "image/png": "[encoded data removed]",
            "text/plain": [
              "<Figure size 1080x576 with 1 Axes>"
            ]
          },
          "metadata": {
            "tags": []
          }
        },
        {
          "output_type": "display_data",
          "data": {
            "image/png": "[encoded data removed]",
            "text/plain": [
              "<Figure size 1080x576 with 1 Axes>"
            ]
          },
          "metadata": {
            "tags": []
          }
        }
      ]
    },
    {
      "cell_type": "markdown",
      "metadata": {
        "id": "20fzekTMitUU",
        "colab_type": "text"
      },
      "source": [
        "Como podemos observar si existen datos outliers en la base de datos. En income podemos ver que existen varios outliers pero estos se refieren a diferencias de sueldos entre las personas que tenemos en la base de datos, pero estos son razonables con lo que puede ganar una persona en miles de dolares al año. Asi como limit, rating y cards son razonables dependiendo suponiendo un criterio bancario relacionado con las variables de riesgo crediticio que pueda tener como politica. En conclusión, según mi supuesto, no es necesario eliminar o modificar estos datos ya que ademas son datos que si pueden influir en los siguiente analisis que vamos a realizar."
      ]
    },
    {
      "cell_type": "markdown",
      "metadata": {
        "id": "I3R9FCpTlNnp",
        "colab_type": "text"
      },
      "source": [
        "# Punto 3"
      ]
    },
    {
      "cell_type": "markdown",
      "metadata": {
        "id": "ZxQFm6mPlSvk",
        "colab_type": "text"
      },
      "source": [
        "## Análisis exploratorio de variables"
      ]
    },
    {
      "cell_type": "code",
      "metadata": {
        "id": "nuSBYLvEY3-9",
        "colab_type": "code",
        "outputId": "3ccb4c21-1583-46f5-ebf6-045022ed8dbc",
        "colab": {
          "base_uri": "https://localhost:8080/",
          "height": 287
        }
      },
      "source": [
        "#para revisar las media, mediana, minimos, maximos y otros de las diferentes variables del dataframe.\n",
        "col_creditos.describe()"
      ],
      "execution_count": 0,
      "outputs": [
        {
          "output_type": "execute_result",
          "data": {
            "text/html": [
              "<div>\n",
              "<style scoped>\n",
              "    .dataframe tbody tr th:only-of-type {\n",
              "        vertical-align: middle;\n",
              "    }\n",
              "\n",
              "    .dataframe tbody tr th {\n",
              "        vertical-align: top;\n",
              "    }\n",
              "\n",
              "    .dataframe thead th {\n",
              "        text-align: right;\n",
              "    }\n",
              "</style>\n",
              "<table border=\"1\" class=\"dataframe\">\n",
              "  <thead>\n",
              "    <tr style=\"text-align: right;\">\n",
              "      <th></th>\n",
              "      <th>Unnamed: 0</th>\n",
              "      <th>Income</th>\n",
              "      <th>Limit</th>\n",
              "      <th>Rating</th>\n",
              "      <th>Cards</th>\n",
              "      <th>Age</th>\n",
              "      <th>Education</th>\n",
              "      <th>Balance</th>\n",
              "    </tr>\n",
              "  </thead>\n",
              "  <tbody>\n",
              "    <tr>\n",
              "      <th>count</th>\n",
              "      <td>400.000000</td>\n",
              "      <td>400.000000</td>\n",
              "      <td>400.000000</td>\n",
              "      <td>400.000000</td>\n",
              "      <td>400.000000</td>\n",
              "      <td>400.000000</td>\n",
              "      <td>400.000000</td>\n",
              "      <td>400.000000</td>\n",
              "    </tr>\n",
              "    <tr>\n",
              "      <th>mean</th>\n",
              "      <td>200.500000</td>\n",
              "      <td>45.218885</td>\n",
              "      <td>4735.600000</td>\n",
              "      <td>354.940000</td>\n",
              "      <td>2.957500</td>\n",
              "      <td>55.667500</td>\n",
              "      <td>13.450000</td>\n",
              "      <td>520.015000</td>\n",
              "    </tr>\n",
              "    <tr>\n",
              "      <th>std</th>\n",
              "      <td>115.614301</td>\n",
              "      <td>35.244273</td>\n",
              "      <td>2308.198848</td>\n",
              "      <td>154.724143</td>\n",
              "      <td>1.371275</td>\n",
              "      <td>17.249807</td>\n",
              "      <td>3.125207</td>\n",
              "      <td>459.758877</td>\n",
              "    </tr>\n",
              "    <tr>\n",
              "      <th>min</th>\n",
              "      <td>1.000000</td>\n",
              "      <td>10.354000</td>\n",
              "      <td>855.000000</td>\n",
              "      <td>93.000000</td>\n",
              "      <td>1.000000</td>\n",
              "      <td>23.000000</td>\n",
              "      <td>5.000000</td>\n",
              "      <td>0.000000</td>\n",
              "    </tr>\n",
              "    <tr>\n",
              "      <th>25%</th>\n",
              "      <td>100.750000</td>\n",
              "      <td>21.007250</td>\n",
              "      <td>3088.000000</td>\n",
              "      <td>247.250000</td>\n",
              "      <td>2.000000</td>\n",
              "      <td>41.750000</td>\n",
              "      <td>11.000000</td>\n",
              "      <td>68.750000</td>\n",
              "    </tr>\n",
              "    <tr>\n",
              "      <th>50%</th>\n",
              "      <td>200.500000</td>\n",
              "      <td>33.115500</td>\n",
              "      <td>4622.500000</td>\n",
              "      <td>344.000000</td>\n",
              "      <td>3.000000</td>\n",
              "      <td>56.000000</td>\n",
              "      <td>14.000000</td>\n",
              "      <td>459.500000</td>\n",
              "    </tr>\n",
              "    <tr>\n",
              "      <th>75%</th>\n",
              "      <td>300.250000</td>\n",
              "      <td>57.470750</td>\n",
              "      <td>5872.750000</td>\n",
              "      <td>437.250000</td>\n",
              "      <td>4.000000</td>\n",
              "      <td>70.000000</td>\n",
              "      <td>16.000000</td>\n",
              "      <td>863.000000</td>\n",
              "    </tr>\n",
              "    <tr>\n",
              "      <th>max</th>\n",
              "      <td>400.000000</td>\n",
              "      <td>186.634000</td>\n",
              "      <td>13913.000000</td>\n",
              "      <td>982.000000</td>\n",
              "      <td>9.000000</td>\n",
              "      <td>98.000000</td>\n",
              "      <td>20.000000</td>\n",
              "      <td>1999.000000</td>\n",
              "    </tr>\n",
              "  </tbody>\n",
              "</table>\n",
              "</div>"
            ],
            "text/plain": [
              "       Unnamed: 0      Income  ...   Education      Balance\n",
              "count  400.000000  400.000000  ...  400.000000   400.000000\n",
              "mean   200.500000   45.218885  ...   13.450000   520.015000\n",
              "std    115.614301   35.244273  ...    3.125207   459.758877\n",
              "min      1.000000   10.354000  ...    5.000000     0.000000\n",
              "25%    100.750000   21.007250  ...   11.000000    68.750000\n",
              "50%    200.500000   33.115500  ...   14.000000   459.500000\n",
              "75%    300.250000   57.470750  ...   16.000000   863.000000\n",
              "max    400.000000  186.634000  ...   20.000000  1999.000000\n",
              "\n",
              "[8 rows x 8 columns]"
            ]
          },
          "metadata": {
            "tags": []
          },
          "execution_count": 6
        }
      ]
    },
    {
      "cell_type": "code",
      "metadata": {
        "id": "r3trbAJvxU8y",
        "colab_type": "code",
        "outputId": "10f9746c-e62b-4730-c7fc-80120b1f1e55",
        "colab": {
          "base_uri": "https://localhost:8080/",
          "height": 273
        }
      },
      "source": [
        "#si los clientes son estudiantes o no\n",
        "creditos.Student.value_counts().plot(kind='bar');"
      ],
      "execution_count": 0,
      "outputs": [
        {
          "output_type": "display_data",
          "data": {
            "image/png": "[encoded data removed]",
            "text/plain": [
              "<Figure size 432x288 with 1 Axes>"
            ]
          },
          "metadata": {
            "tags": []
          }
        }
      ]
    },
    {
      "cell_type": "code",
      "metadata": {
        "id": "4N55oAjL97_N",
        "colab_type": "code",
        "outputId": "1b02d9e4-067a-4ceb-a122-9b26c9584bd3",
        "colab": {
          "base_uri": "https://localhost:8080/",
          "height": 342
        }
      },
      "source": [
        "#Clasificacion por etnias\n",
        "creditos.Ethnicity.value_counts().plot(kind='bar');"
      ],
      "execution_count": 0,
      "outputs": [
        {
          "output_type": "display_data",
          "data": {
            "image/png": "[encoded data removed]",
            "text/plain": [
              "<Figure size 432x288 with 1 Axes>"
            ]
          },
          "metadata": {
            "tags": []
          }
        }
      ]
    },
    {
      "cell_type": "code",
      "metadata": {
        "id": "ZXPkZZi1-CUJ",
        "colab_type": "code",
        "outputId": "f11eccfc-5359-46ca-f595-78bc2f998640",
        "colab": {
          "base_uri": "https://localhost:8080/",
          "height": 301
        }
      },
      "source": [
        "#cantidad de hombres y mujeres\n",
        "fm2=creditos.Gender.value_counts()\n",
        "print(fm2)\n",
        "creditos.Gender.value_counts().plot(kind='pie');"
      ],
      "execution_count": 0,
      "outputs": [
        {
          "output_type": "stream",
          "text": [
            "Female    207\n",
            " Male     193\n",
            "Name: Gender, dtype: int64\n"
          ],
          "name": "stdout"
        },
        {
          "output_type": "display_data",
          "data": {
            "image/png": "[encoded data removed]",
            "text/plain": [
              "<Figure size 432x288 with 1 Axes>"
            ]
          },
          "metadata": {
            "tags": []
          }
        }
      ]
    },
    {
      "cell_type": "code",
      "metadata": {
        "id": "PqwYMtpy-9vV",
        "colab_type": "code",
        "outputId": "c3e8aaa6-45b1-4dab-d4c9-e882718f5ce2",
        "colab": {
          "base_uri": "https://localhost:8080/",
          "height": 197
        }
      },
      "source": [
        "#mejores ranking de creditos\n",
        "creditos.sort_values(by=\"Rating\",ascending=False).head()"
      ],
      "execution_count": 0,
      "outputs": [
        {
          "output_type": "execute_result",
          "data": {
            "text/html": [
              "<div>\n",
              "<style scoped>\n",
              "    .dataframe tbody tr th:only-of-type {\n",
              "        vertical-align: middle;\n",
              "    }\n",
              "\n",
              "    .dataframe tbody tr th {\n",
              "        vertical-align: top;\n",
              "    }\n",
              "\n",
              "    .dataframe thead th {\n",
              "        text-align: right;\n",
              "    }\n",
              "</style>\n",
              "<table border=\"1\" class=\"dataframe\">\n",
              "  <thead>\n",
              "    <tr style=\"text-align: right;\">\n",
              "      <th></th>\n",
              "      <th>Unnamed: 0</th>\n",
              "      <th>Income</th>\n",
              "      <th>Limit</th>\n",
              "      <th>Rating</th>\n",
              "      <th>Cards</th>\n",
              "      <th>Age</th>\n",
              "      <th>Education</th>\n",
              "      <th>Gender</th>\n",
              "      <th>Student</th>\n",
              "      <th>Married</th>\n",
              "      <th>Ethnicity</th>\n",
              "      <th>Balance</th>\n",
              "    </tr>\n",
              "  </thead>\n",
              "  <tbody>\n",
              "    <tr>\n",
              "      <th>323</th>\n",
              "      <td>324</td>\n",
              "      <td>182.728</td>\n",
              "      <td>13913</td>\n",
              "      <td>982</td>\n",
              "      <td>4</td>\n",
              "      <td>98</td>\n",
              "      <td>17</td>\n",
              "      <td>Male</td>\n",
              "      <td>No</td>\n",
              "      <td>Yes</td>\n",
              "      <td>Caucasian</td>\n",
              "      <td>1999</td>\n",
              "    </tr>\n",
              "    <tr>\n",
              "      <th>28</th>\n",
              "      <td>29</td>\n",
              "      <td>186.634</td>\n",
              "      <td>13414</td>\n",
              "      <td>949</td>\n",
              "      <td>2</td>\n",
              "      <td>41</td>\n",
              "      <td>14</td>\n",
              "      <td>Female</td>\n",
              "      <td>No</td>\n",
              "      <td>Yes</td>\n",
              "      <td>African American</td>\n",
              "      <td>1809</td>\n",
              "    </tr>\n",
              "    <tr>\n",
              "      <th>355</th>\n",
              "      <td>356</td>\n",
              "      <td>180.682</td>\n",
              "      <td>11966</td>\n",
              "      <td>832</td>\n",
              "      <td>2</td>\n",
              "      <td>58</td>\n",
              "      <td>8</td>\n",
              "      <td>Female</td>\n",
              "      <td>No</td>\n",
              "      <td>Yes</td>\n",
              "      <td>African American</td>\n",
              "      <td>1405</td>\n",
              "    </tr>\n",
              "    <tr>\n",
              "      <th>85</th>\n",
              "      <td>86</td>\n",
              "      <td>152.298</td>\n",
              "      <td>12066</td>\n",
              "      <td>828</td>\n",
              "      <td>4</td>\n",
              "      <td>41</td>\n",
              "      <td>12</td>\n",
              "      <td>Female</td>\n",
              "      <td>No</td>\n",
              "      <td>Yes</td>\n",
              "      <td>Asian</td>\n",
              "      <td>1779</td>\n",
              "    </tr>\n",
              "    <tr>\n",
              "      <th>293</th>\n",
              "      <td>294</td>\n",
              "      <td>140.672</td>\n",
              "      <td>11200</td>\n",
              "      <td>817</td>\n",
              "      <td>7</td>\n",
              "      <td>46</td>\n",
              "      <td>9</td>\n",
              "      <td>Male</td>\n",
              "      <td>No</td>\n",
              "      <td>Yes</td>\n",
              "      <td>African American</td>\n",
              "      <td>1677</td>\n",
              "    </tr>\n",
              "  </tbody>\n",
              "</table>\n",
              "</div>"
            ],
            "text/plain": [
              "     Unnamed: 0   Income  Limit  ...  Married         Ethnicity  Balance\n",
              "323         324  182.728  13913  ...      Yes         Caucasian     1999\n",
              "28           29  186.634  13414  ...      Yes  African American     1809\n",
              "355         356  180.682  11966  ...      Yes  African American     1405\n",
              "85           86  152.298  12066  ...      Yes             Asian     1779\n",
              "293         294  140.672  11200  ...      Yes  African American     1677\n",
              "\n",
              "[5 rows x 12 columns]"
            ]
          },
          "metadata": {
            "tags": []
          },
          "execution_count": 10
        }
      ]
    },
    {
      "cell_type": "code",
      "metadata": {
        "id": "zX8axbhZ-sqB",
        "colab_type": "code",
        "outputId": "2994b90a-a70f-4f8b-8879-838951fb2d1f",
        "colab": {
          "base_uri": "https://localhost:8080/",
          "height": 197
        }
      },
      "source": [
        "#mayores ingresos anuales\n",
        "creditos.sort_values(by=\"Income\",ascending=False).head()"
      ],
      "execution_count": 0,
      "outputs": [
        {
          "output_type": "execute_result",
          "data": {
            "text/html": [
              "<div>\n",
              "<style scoped>\n",
              "    .dataframe tbody tr th:only-of-type {\n",
              "        vertical-align: middle;\n",
              "    }\n",
              "\n",
              "    .dataframe tbody tr th {\n",
              "        vertical-align: top;\n",
              "    }\n",
              "\n",
              "    .dataframe thead th {\n",
              "        text-align: right;\n",
              "    }\n",
              "</style>\n",
              "<table border=\"1\" class=\"dataframe\">\n",
              "  <thead>\n",
              "    <tr style=\"text-align: right;\">\n",
              "      <th></th>\n",
              "      <th>Unnamed: 0</th>\n",
              "      <th>Income</th>\n",
              "      <th>Limit</th>\n",
              "      <th>Rating</th>\n",
              "      <th>Cards</th>\n",
              "      <th>Age</th>\n",
              "      <th>Education</th>\n",
              "      <th>Gender</th>\n",
              "      <th>Student</th>\n",
              "      <th>Married</th>\n",
              "      <th>Ethnicity</th>\n",
              "      <th>Balance</th>\n",
              "    </tr>\n",
              "  </thead>\n",
              "  <tbody>\n",
              "    <tr>\n",
              "      <th>28</th>\n",
              "      <td>29</td>\n",
              "      <td>186.634</td>\n",
              "      <td>13414</td>\n",
              "      <td>949</td>\n",
              "      <td>2</td>\n",
              "      <td>41</td>\n",
              "      <td>14</td>\n",
              "      <td>Female</td>\n",
              "      <td>No</td>\n",
              "      <td>Yes</td>\n",
              "      <td>African American</td>\n",
              "      <td>1809</td>\n",
              "    </tr>\n",
              "    <tr>\n",
              "      <th>323</th>\n",
              "      <td>324</td>\n",
              "      <td>182.728</td>\n",
              "      <td>13913</td>\n",
              "      <td>982</td>\n",
              "      <td>4</td>\n",
              "      <td>98</td>\n",
              "      <td>17</td>\n",
              "      <td>Male</td>\n",
              "      <td>No</td>\n",
              "      <td>Yes</td>\n",
              "      <td>Caucasian</td>\n",
              "      <td>1999</td>\n",
              "    </tr>\n",
              "    <tr>\n",
              "      <th>355</th>\n",
              "      <td>356</td>\n",
              "      <td>180.682</td>\n",
              "      <td>11966</td>\n",
              "      <td>832</td>\n",
              "      <td>2</td>\n",
              "      <td>58</td>\n",
              "      <td>8</td>\n",
              "      <td>Female</td>\n",
              "      <td>No</td>\n",
              "      <td>Yes</td>\n",
              "      <td>African American</td>\n",
              "      <td>1405</td>\n",
              "    </tr>\n",
              "    <tr>\n",
              "      <th>261</th>\n",
              "      <td>262</td>\n",
              "      <td>180.379</td>\n",
              "      <td>9310</td>\n",
              "      <td>665</td>\n",
              "      <td>3</td>\n",
              "      <td>67</td>\n",
              "      <td>8</td>\n",
              "      <td>Female</td>\n",
              "      <td>Yes</td>\n",
              "      <td>Yes</td>\n",
              "      <td>Asian</td>\n",
              "      <td>1050</td>\n",
              "    </tr>\n",
              "    <tr>\n",
              "      <th>275</th>\n",
              "      <td>276</td>\n",
              "      <td>163.329</td>\n",
              "      <td>8732</td>\n",
              "      <td>636</td>\n",
              "      <td>3</td>\n",
              "      <td>50</td>\n",
              "      <td>14</td>\n",
              "      <td>Male</td>\n",
              "      <td>No</td>\n",
              "      <td>Yes</td>\n",
              "      <td>Caucasian</td>\n",
              "      <td>529</td>\n",
              "    </tr>\n",
              "  </tbody>\n",
              "</table>\n",
              "</div>"
            ],
            "text/plain": [
              "     Unnamed: 0   Income  Limit  ...  Married         Ethnicity  Balance\n",
              "28           29  186.634  13414  ...      Yes  African American     1809\n",
              "323         324  182.728  13913  ...      Yes         Caucasian     1999\n",
              "355         356  180.682  11966  ...      Yes  African American     1405\n",
              "261         262  180.379   9310  ...      Yes             Asian     1050\n",
              "275         276  163.329   8732  ...      Yes         Caucasian      529\n",
              "\n",
              "[5 rows x 12 columns]"
            ]
          },
          "metadata": {
            "tags": []
          },
          "execution_count": 11
        }
      ]
    },
    {
      "cell_type": "code",
      "metadata": {
        "id": "9b6BfapA-4Uk",
        "colab_type": "code",
        "outputId": "f0277b04-3a14-4f77-987d-3e2db5c23484",
        "colab": {
          "base_uri": "https://localhost:8080/",
          "height": 197
        }
      },
      "source": [
        "#los clientes con mas edad\n",
        "creditos.sort_values(by=\"Age\",ascending=False).head()"
      ],
      "execution_count": 0,
      "outputs": [
        {
          "output_type": "execute_result",
          "data": {
            "text/html": [
              "<div>\n",
              "<style scoped>\n",
              "    .dataframe tbody tr th:only-of-type {\n",
              "        vertical-align: middle;\n",
              "    }\n",
              "\n",
              "    .dataframe tbody tr th {\n",
              "        vertical-align: top;\n",
              "    }\n",
              "\n",
              "    .dataframe thead th {\n",
              "        text-align: right;\n",
              "    }\n",
              "</style>\n",
              "<table border=\"1\" class=\"dataframe\">\n",
              "  <thead>\n",
              "    <tr style=\"text-align: right;\">\n",
              "      <th></th>\n",
              "      <th>Unnamed: 0</th>\n",
              "      <th>Income</th>\n",
              "      <th>Limit</th>\n",
              "      <th>Rating</th>\n",
              "      <th>Cards</th>\n",
              "      <th>Age</th>\n",
              "      <th>Education</th>\n",
              "      <th>Gender</th>\n",
              "      <th>Student</th>\n",
              "      <th>Married</th>\n",
              "      <th>Ethnicity</th>\n",
              "      <th>Balance</th>\n",
              "    </tr>\n",
              "  </thead>\n",
              "  <tbody>\n",
              "    <tr>\n",
              "      <th>323</th>\n",
              "      <td>324</td>\n",
              "      <td>182.728</td>\n",
              "      <td>13913</td>\n",
              "      <td>982</td>\n",
              "      <td>4</td>\n",
              "      <td>98</td>\n",
              "      <td>17</td>\n",
              "      <td>Male</td>\n",
              "      <td>No</td>\n",
              "      <td>Yes</td>\n",
              "      <td>Caucasian</td>\n",
              "      <td>1999</td>\n",
              "    </tr>\n",
              "    <tr>\n",
              "      <th>209</th>\n",
              "      <td>210</td>\n",
              "      <td>151.947</td>\n",
              "      <td>9156</td>\n",
              "      <td>642</td>\n",
              "      <td>2</td>\n",
              "      <td>91</td>\n",
              "      <td>11</td>\n",
              "      <td>Female</td>\n",
              "      <td>No</td>\n",
              "      <td>Yes</td>\n",
              "      <td>African American</td>\n",
              "      <td>732</td>\n",
              "    </tr>\n",
              "    <tr>\n",
              "      <th>128</th>\n",
              "      <td>129</td>\n",
              "      <td>123.299</td>\n",
              "      <td>8376</td>\n",
              "      <td>610</td>\n",
              "      <td>2</td>\n",
              "      <td>89</td>\n",
              "      <td>17</td>\n",
              "      <td>Male</td>\n",
              "      <td>Yes</td>\n",
              "      <td>No</td>\n",
              "      <td>African American</td>\n",
              "      <td>1259</td>\n",
              "    </tr>\n",
              "    <tr>\n",
              "      <th>139</th>\n",
              "      <td>140</td>\n",
              "      <td>107.841</td>\n",
              "      <td>10384</td>\n",
              "      <td>728</td>\n",
              "      <td>3</td>\n",
              "      <td>87</td>\n",
              "      <td>7</td>\n",
              "      <td>Male</td>\n",
              "      <td>No</td>\n",
              "      <td>No</td>\n",
              "      <td>African American</td>\n",
              "      <td>1597</td>\n",
              "    </tr>\n",
              "    <tr>\n",
              "      <th>7</th>\n",
              "      <td>8</td>\n",
              "      <td>71.408</td>\n",
              "      <td>7114</td>\n",
              "      <td>512</td>\n",
              "      <td>2</td>\n",
              "      <td>87</td>\n",
              "      <td>9</td>\n",
              "      <td>Male</td>\n",
              "      <td>No</td>\n",
              "      <td>No</td>\n",
              "      <td>Asian</td>\n",
              "      <td>872</td>\n",
              "    </tr>\n",
              "  </tbody>\n",
              "</table>\n",
              "</div>"
            ],
            "text/plain": [
              "     Unnamed: 0   Income  Limit  ...  Married         Ethnicity  Balance\n",
              "323         324  182.728  13913  ...      Yes         Caucasian     1999\n",
              "209         210  151.947   9156  ...      Yes  African American      732\n",
              "128         129  123.299   8376  ...       No  African American     1259\n",
              "139         140  107.841  10384  ...       No  African American     1597\n",
              "7             8   71.408   7114  ...       No             Asian      872\n",
              "\n",
              "[5 rows x 12 columns]"
            ]
          },
          "metadata": {
            "tags": []
          },
          "execution_count": 12
        }
      ]
    },
    {
      "cell_type": "code",
      "metadata": {
        "id": "uqfKf93H_0NW",
        "colab_type": "code",
        "outputId": "93facbbc-4031-4b7e-e2ad-51a9a11582f1",
        "colab": {
          "base_uri": "https://localhost:8080/",
          "height": 197
        }
      },
      "source": [
        "#los mayores pormedios de deuda\n",
        "creditos.sort_values(by=\"Balance\",ascending=False).head()"
      ],
      "execution_count": 0,
      "outputs": [
        {
          "output_type": "execute_result",
          "data": {
            "text/html": [
              "<div>\n",
              "<style scoped>\n",
              "    .dataframe tbody tr th:only-of-type {\n",
              "        vertical-align: middle;\n",
              "    }\n",
              "\n",
              "    .dataframe tbody tr th {\n",
              "        vertical-align: top;\n",
              "    }\n",
              "\n",
              "    .dataframe thead th {\n",
              "        text-align: right;\n",
              "    }\n",
              "</style>\n",
              "<table border=\"1\" class=\"dataframe\">\n",
              "  <thead>\n",
              "    <tr style=\"text-align: right;\">\n",
              "      <th></th>\n",
              "      <th>Unnamed: 0</th>\n",
              "      <th>Income</th>\n",
              "      <th>Limit</th>\n",
              "      <th>Rating</th>\n",
              "      <th>Cards</th>\n",
              "      <th>Age</th>\n",
              "      <th>Education</th>\n",
              "      <th>Gender</th>\n",
              "      <th>Student</th>\n",
              "      <th>Married</th>\n",
              "      <th>Ethnicity</th>\n",
              "      <th>Balance</th>\n",
              "    </tr>\n",
              "  </thead>\n",
              "  <tbody>\n",
              "    <tr>\n",
              "      <th>323</th>\n",
              "      <td>324</td>\n",
              "      <td>182.728</td>\n",
              "      <td>13913</td>\n",
              "      <td>982</td>\n",
              "      <td>4</td>\n",
              "      <td>98</td>\n",
              "      <td>17</td>\n",
              "      <td>Male</td>\n",
              "      <td>No</td>\n",
              "      <td>Yes</td>\n",
              "      <td>Caucasian</td>\n",
              "      <td>1999</td>\n",
              "    </tr>\n",
              "    <tr>\n",
              "      <th>28</th>\n",
              "      <td>29</td>\n",
              "      <td>186.634</td>\n",
              "      <td>13414</td>\n",
              "      <td>949</td>\n",
              "      <td>2</td>\n",
              "      <td>41</td>\n",
              "      <td>14</td>\n",
              "      <td>Female</td>\n",
              "      <td>No</td>\n",
              "      <td>Yes</td>\n",
              "      <td>African American</td>\n",
              "      <td>1809</td>\n",
              "    </tr>\n",
              "    <tr>\n",
              "      <th>85</th>\n",
              "      <td>86</td>\n",
              "      <td>152.298</td>\n",
              "      <td>12066</td>\n",
              "      <td>828</td>\n",
              "      <td>4</td>\n",
              "      <td>41</td>\n",
              "      <td>12</td>\n",
              "      <td>Female</td>\n",
              "      <td>No</td>\n",
              "      <td>Yes</td>\n",
              "      <td>Asian</td>\n",
              "      <td>1779</td>\n",
              "    </tr>\n",
              "    <tr>\n",
              "      <th>191</th>\n",
              "      <td>192</td>\n",
              "      <td>124.290</td>\n",
              "      <td>9560</td>\n",
              "      <td>701</td>\n",
              "      <td>3</td>\n",
              "      <td>52</td>\n",
              "      <td>17</td>\n",
              "      <td>Female</td>\n",
              "      <td>Yes</td>\n",
              "      <td>No</td>\n",
              "      <td>Asian</td>\n",
              "      <td>1687</td>\n",
              "    </tr>\n",
              "    <tr>\n",
              "      <th>293</th>\n",
              "      <td>294</td>\n",
              "      <td>140.672</td>\n",
              "      <td>11200</td>\n",
              "      <td>817</td>\n",
              "      <td>7</td>\n",
              "      <td>46</td>\n",
              "      <td>9</td>\n",
              "      <td>Male</td>\n",
              "      <td>No</td>\n",
              "      <td>Yes</td>\n",
              "      <td>African American</td>\n",
              "      <td>1677</td>\n",
              "    </tr>\n",
              "  </tbody>\n",
              "</table>\n",
              "</div>"
            ],
            "text/plain": [
              "     Unnamed: 0   Income  Limit  ...  Married         Ethnicity  Balance\n",
              "323         324  182.728  13913  ...      Yes         Caucasian     1999\n",
              "28           29  186.634  13414  ...      Yes  African American     1809\n",
              "85           86  152.298  12066  ...      Yes             Asian     1779\n",
              "191         192  124.290   9560  ...       No             Asian     1687\n",
              "293         294  140.672  11200  ...      Yes  African American     1677\n",
              "\n",
              "[5 rows x 12 columns]"
            ]
          },
          "metadata": {
            "tags": []
          },
          "execution_count": 13
        }
      ]
    },
    {
      "cell_type": "markdown",
      "metadata": {
        "id": "GsSgGDR3Eueb",
        "colab_type": "text"
      },
      "source": [
        "# Punto 4"
      ]
    },
    {
      "cell_type": "markdown",
      "metadata": {
        "id": "sWi4LkpNl9hN",
        "colab_type": "text"
      },
      "source": [
        "## Matriz de correlación"
      ]
    },
    {
      "cell_type": "code",
      "metadata": {
        "id": "cIdkcuWMDPUZ",
        "colab_type": "code",
        "colab": {}
      },
      "source": [
        "#Este codigo sirve para cambiar las variables que son cualitativas por cuantivativas\n",
        "\n",
        "#se genera una variable solo con las variables cuantitativas\n",
        "x= creditos[['Income','Limit','Rating','Cards','Age','Education','Balance']]\n",
        "#se genera las variables cuantitativas de las cualitativas y el drop sirve para eliminar la primera columna (sino genera dos columnas con valores opuestos en el caso que tengan solo 2 variables, en el caso de 3 variables elimina una y por ejemplo si ambas de las que quedan no tienen datos, significa que es la tercera variable)\n",
        "enbi = pd.get_dummies(data=creditos[['Gender','Student','Married','Ethnicity']], drop_first=True)\n",
        "#se genera una nueva variable con la suma de de las variables de arriba, x y enbi\n",
        "creditos01= enbi.add(x,fill_value=0)"
      ],
      "execution_count": 0,
      "outputs": []
    },
    {
      "cell_type": "code",
      "metadata": {
        "id": "oKQiO0-3gou5",
        "colab_type": "code",
        "outputId": "59690f8f-e34e-4a1d-a50a-934dd111e61c",
        "colab": {
          "base_uri": "https://localhost:8080/",
          "height": 576
        }
      },
      "source": [
        "#para generar una matriz de correlacion sin datos repetidos\n",
        "\n",
        "mask = np.zeros_like(creditos01.corr(method='pearson'), dtype=np.bool)\n",
        "mask[np.triu_indices_from(mask)] = True\n",
        "plt.figure(figsize=(20,8))\n",
        "sns.heatmap(creditos01.corr(method='pearson'),annot=True,fmt='.3f',\n",
        "            mask=mask, cmap='YlOrBr');\n",
        "plt.yticks(rotation=0)\n",
        "plt.show()"
      ],
      "execution_count": 0,
      "outputs": [
        {
          "output_type": "display_data",
          "data": {
            "image/png": "[encoded data removed]",
            "text/plain": [
              "<Figure size 1440x576 with 2 Axes>"
            ]
          },
          "metadata": {
            "tags": []
          }
        }
      ]
    },
    {
      "cell_type": "markdown",
      "metadata": {
        "id": "nUzr-1VKoDxs",
        "colab_type": "text"
      },
      "source": [
        "Los datos que se encuentran en color mas oscuros son los que tienen mas correlacion positiva, en cambio los que se encuentran mas en blanco y con valor negativo significa que tienen correlacion negativa. \n",
        "\n",
        "\n",
        "---\n",
        "\n",
        "\n",
        "En el caso de las correlaciones positivas mayores a 0,75 son:\n",
        "\n",
        "*   Con Limit (limite de credito), existe una correlacion de 0,997 con la variable Rating (Ranking de credito). Tambien existe correlacion de limit con Balance (promedio de deuda) en una correlacion de 0,864. al) Y por ultimo Limit tienen una correlacion grande con con income (Ingreso anual) por 0,792.\n",
        "*   Con rating existe una correlacion alta con balance por 0,864 y tambien una correlacion con income por 0,791.\n",
        "\n",
        "En el caso de las correlaciones negativas solo existe una correlacion inversa que es elata de -0,582 y son entre las diferentes etnias, como la Asiatica (Ethnicity_Asian) y la caucasica (Ethnicity_Caucasian).\n",
        "\n",
        "\n",
        "\n",
        "\n",
        "\n"
      ]
    },
    {
      "cell_type": "code",
      "metadata": {
        "id": "soe3pdW1D_-I",
        "colab_type": "code",
        "outputId": "d4fa73da-9bec-4976-bdd9-d8d9ffaf0f70",
        "colab": {
          "base_uri": "https://localhost:8080/",
          "height": 248
        }
      },
      "source": [
        "#esta matriz de corralacion la realice porque la funcion de arriba en colab no se muestran completos los datos por el corte, asi que para comprobar esos datos hice esta matriz completa\n",
        "creditos01.corr(method='pearson').round(3).style.background_gradient(cmap='YlOrBr')"
      ],
      "execution_count": 0,
      "outputs": [
        {
          "output_type": "execute_result",
          "data": {
            "text/html": [
              "<style  type=\"text/css\" >\n",
              "    #T_b866fba6_0cd2_11ea_bb94_0242ac1c0002row0_col0 {\n",
              "            background-color:  #662506;\n",
              "            color:  #f1f1f1;\n",
              "        }    #T_b866fba6_0cd2_11ea_bb94_0242ac1c0002row0_col1 {\n",
              "            background-color:  #fffee1;\n",
              "            color:  #000000;\n",
              "        }    #T_b866fba6_0cd2_11ea_bb94_0242ac1c0002row0_col2 {\n",
              "            background-color:  #fff9c9;\n",
              "            color:  #000000;\n",
              "        }    #T_b866fba6_0cd2_11ea_bb94_0242ac1c0002row0_col3 {\n",
              "            background-color:  #fffcd4;\n",
              "            color:  #000000;\n",
              "        }    #T_b866fba6_0cd2_11ea_bb94_0242ac1c0002row0_col4 {\n",
              "            background-color:  #fecf67;\n",
              "            color:  #000000;\n",
              "        }    #T_b866fba6_0cd2_11ea_bb94_0242ac1c0002row0_col5 {\n",
              "            background-color:  #fec652;\n",
              "            color:  #000000;\n",
              "        }    #T_b866fba6_0cd2_11ea_bb94_0242ac1c0002row0_col6 {\n",
              "            background-color:  #fffddd;\n",
              "            color:  #000000;\n",
              "        }    #T_b866fba6_0cd2_11ea_bb94_0242ac1c0002row0_col7 {\n",
              "            background-color:  #feeca4;\n",
              "            color:  #000000;\n",
              "        }    #T_b866fba6_0cd2_11ea_bb94_0242ac1c0002row0_col8 {\n",
              "            background-color:  #fff7bc;\n",
              "            color:  #000000;\n",
              "        }    #T_b866fba6_0cd2_11ea_bb94_0242ac1c0002row0_col9 {\n",
              "            background-color:  #ffffe5;\n",
              "            color:  #000000;\n",
              "        }    #T_b866fba6_0cd2_11ea_bb94_0242ac1c0002row0_col10 {\n",
              "            background-color:  #fff6b9;\n",
              "            color:  #000000;\n",
              "        }    #T_b866fba6_0cd2_11ea_bb94_0242ac1c0002row0_col11 {\n",
              "            background-color:  #fffcd7;\n",
              "            color:  #000000;\n",
              "        }    #T_b866fba6_0cd2_11ea_bb94_0242ac1c0002row1_col0 {\n",
              "            background-color:  #fffbcf;\n",
              "            color:  #000000;\n",
              "        }    #T_b866fba6_0cd2_11ea_bb94_0242ac1c0002row1_col1 {\n",
              "            background-color:  #662506;\n",
              "            color:  #f1f1f1;\n",
              "        }    #T_b866fba6_0cd2_11ea_bb94_0242ac1c0002row1_col2 {\n",
              "            background-color:  #fff6ba;\n",
              "            color:  #000000;\n",
              "        }    #T_b866fba6_0cd2_11ea_bb94_0242ac1c0002row1_col3 {\n",
              "            background-color:  #fffcd8;\n",
              "            color:  #000000;\n",
              "        }    #T_b866fba6_0cd2_11ea_bb94_0242ac1c0002row1_col4 {\n",
              "            background-color:  #fec857;\n",
              "            color:  #000000;\n",
              "        }    #T_b866fba6_0cd2_11ea_bb94_0242ac1c0002row1_col5 {\n",
              "            background-color:  #fec754;\n",
              "            color:  #000000;\n",
              "        }    #T_b866fba6_0cd2_11ea_bb94_0242ac1c0002row1_col6 {\n",
              "            background-color:  #fffcd7;\n",
              "            color:  #000000;\n",
              "        }    #T_b866fba6_0cd2_11ea_bb94_0242ac1c0002row1_col7 {\n",
              "            background-color:  #fea030;\n",
              "            color:  #000000;\n",
              "        }    #T_b866fba6_0cd2_11ea_bb94_0242ac1c0002row1_col8 {\n",
              "            background-color:  #9c3604;\n",
              "            color:  #f1f1f1;\n",
              "        }    #T_b866fba6_0cd2_11ea_bb94_0242ac1c0002row1_col9 {\n",
              "            background-color:  #fffbd0;\n",
              "            color:  #000000;\n",
              "        }    #T_b866fba6_0cd2_11ea_bb94_0242ac1c0002row1_col10 {\n",
              "            background-color:  #9b3504;\n",
              "            color:  #f1f1f1;\n",
              "        }    #T_b866fba6_0cd2_11ea_bb94_0242ac1c0002row1_col11 {\n",
              "            background-color:  #fed471;\n",
              "            color:  #000000;\n",
              "        }    #T_b866fba6_0cd2_11ea_bb94_0242ac1c0002row2_col0 {\n",
              "            background-color:  #fff8c2;\n",
              "            color:  #000000;\n",
              "        }    #T_b866fba6_0cd2_11ea_bb94_0242ac1c0002row2_col1 {\n",
              "            background-color:  #fff9c6;\n",
              "            color:  #000000;\n",
              "        }    #T_b866fba6_0cd2_11ea_bb94_0242ac1c0002row2_col2 {\n",
              "            background-color:  #662506;\n",
              "            color:  #f1f1f1;\n",
              "        }    #T_b866fba6_0cd2_11ea_bb94_0242ac1c0002row2_col3 {\n",
              "            background-color:  #ffffe5;\n",
              "            color:  #000000;\n",
              "        }    #T_b866fba6_0cd2_11ea_bb94_0242ac1c0002row2_col4 {\n",
              "            background-color:  #fec550;\n",
              "            color:  #000000;\n",
              "        }    #T_b866fba6_0cd2_11ea_bb94_0242ac1c0002row2_col5 {\n",
              "            background-color:  #fec754;\n",
              "            color:  #000000;\n",
              "        }    #T_b866fba6_0cd2_11ea_bb94_0242ac1c0002row2_col6 {\n",
              "            background-color:  #ffffe5;\n",
              "            color:  #000000;\n",
              "        }    #T_b866fba6_0cd2_11ea_bb94_0242ac1c0002row2_col7 {\n",
              "            background-color:  #fffee2;\n",
              "            color:  #000000;\n",
              "        }    #T_b866fba6_0cd2_11ea_bb94_0242ac1c0002row2_col8 {\n",
              "            background-color:  #fffcd8;\n",
              "            color:  #000000;\n",
              "        }    #T_b866fba6_0cd2_11ea_bb94_0242ac1c0002row2_col9 {\n",
              "            background-color:  #fffbd2;\n",
              "            color:  #000000;\n",
              "        }    #T_b866fba6_0cd2_11ea_bb94_0242ac1c0002row2_col10 {\n",
              "            background-color:  #fffaca;\n",
              "            color:  #000000;\n",
              "        }    #T_b866fba6_0cd2_11ea_bb94_0242ac1c0002row2_col11 {\n",
              "            background-color:  #fffcd6;\n",
              "            color:  #000000;\n",
              "        }    #T_b866fba6_0cd2_11ea_bb94_0242ac1c0002row3_col0 {\n",
              "            background-color:  #ffface;\n",
              "            color:  #000000;\n",
              "        }    #T_b866fba6_0cd2_11ea_bb94_0242ac1c0002row3_col1 {\n",
              "            background-color:  #ffffe5;\n",
              "            color:  #000000;\n",
              "        }    #T_b866fba6_0cd2_11ea_bb94_0242ac1c0002row3_col2 {\n",
              "            background-color:  #ffffe5;\n",
              "            color:  #000000;\n",
              "        }    #T_b866fba6_0cd2_11ea_bb94_0242ac1c0002row3_col3 {\n",
              "            background-color:  #662506;\n",
              "            color:  #f1f1f1;\n",
              "        }    #T_b866fba6_0cd2_11ea_bb94_0242ac1c0002row3_col4 {\n",
              "            background-color:  #febf4b;\n",
              "            color:  #000000;\n",
              "        }    #T_b866fba6_0cd2_11ea_bb94_0242ac1c0002row3_col5 {\n",
              "            background-color:  #fecb5f;\n",
              "            color:  #000000;\n",
              "        }    #T_b866fba6_0cd2_11ea_bb94_0242ac1c0002row3_col6 {\n",
              "            background-color:  #fffee0;\n",
              "            color:  #000000;\n",
              "        }    #T_b866fba6_0cd2_11ea_bb94_0242ac1c0002row3_col7 {\n",
              "            background-color:  #ffffe5;\n",
              "            color:  #000000;\n",
              "        }    #T_b866fba6_0cd2_11ea_bb94_0242ac1c0002row3_col8 {\n",
              "            background-color:  #ffffe4;\n",
              "            color:  #000000;\n",
              "        }    #T_b866fba6_0cd2_11ea_bb94_0242ac1c0002row3_col9 {\n",
              "            background-color:  #fff8c0;\n",
              "            color:  #000000;\n",
              "        }    #T_b866fba6_0cd2_11ea_bb94_0242ac1c0002row3_col10 {\n",
              "            background-color:  #ffffe4;\n",
              "            color:  #000000;\n",
              "        }    #T_b866fba6_0cd2_11ea_bb94_0242ac1c0002row3_col11 {\n",
              "            background-color:  #fff5b8;\n",
              "            color:  #000000;\n",
              "        }    #T_b866fba6_0cd2_11ea_bb94_0242ac1c0002row4_col0 {\n",
              "            background-color:  #fffee1;\n",
              "            color:  #000000;\n",
              "        }    #T_b866fba6_0cd2_11ea_bb94_0242ac1c0002row4_col1 {\n",
              "            background-color:  #ffffe5;\n",
              "            color:  #000000;\n",
              "        }    #T_b866fba6_0cd2_11ea_bb94_0242ac1c0002row4_col2 {\n",
              "            background-color:  #fffcd4;\n",
              "            color:  #000000;\n",
              "        }    #T_b866fba6_0cd2_11ea_bb94_0242ac1c0002row4_col3 {\n",
              "            background-color:  #fffacd;\n",
              "            color:  #000000;\n",
              "        }    #T_b866fba6_0cd2_11ea_bb94_0242ac1c0002row4_col4 {\n",
              "            background-color:  #662506;\n",
              "            color:  #f1f1f1;\n",
              "        }    #T_b866fba6_0cd2_11ea_bb94_0242ac1c0002row4_col5 {\n",
              "            background-color:  #ffffe5;\n",
              "            color:  #000000;\n",
              "        }    #T_b866fba6_0cd2_11ea_bb94_0242ac1c0002row4_col6 {\n",
              "            background-color:  #fffcd6;\n",
              "            color:  #000000;\n",
              "        }    #T_b866fba6_0cd2_11ea_bb94_0242ac1c0002row4_col7 {\n",
              "            background-color:  #fffee2;\n",
              "            color:  #000000;\n",
              "        }    #T_b866fba6_0cd2_11ea_bb94_0242ac1c0002row4_col8 {\n",
              "            background-color:  #ffffe5;\n",
              "            color:  #000000;\n",
              "        }    #T_b866fba6_0cd2_11ea_bb94_0242ac1c0002row4_col9 {\n",
              "            background-color:  #fff3b2;\n",
              "            color:  #000000;\n",
              "        }    #T_b866fba6_0cd2_11ea_bb94_0242ac1c0002row4_col10 {\n",
              "            background-color:  #ffffe5;\n",
              "            color:  #000000;\n",
              "        }    #T_b866fba6_0cd2_11ea_bb94_0242ac1c0002row4_col11 {\n",
              "            background-color:  #fff7bd;\n",
              "            color:  #000000;\n",
              "        }    #T_b866fba6_0cd2_11ea_bb94_0242ac1c0002row5_col0 {\n",
              "            background-color:  #fffbcf;\n",
              "            color:  #000000;\n",
              "        }    #T_b866fba6_0cd2_11ea_bb94_0242ac1c0002row5_col1 {\n",
              "            background-color:  #ffffe4;\n",
              "            color:  #000000;\n",
              "        }    #T_b866fba6_0cd2_11ea_bb94_0242ac1c0002row5_col2 {\n",
              "            background-color:  #fffcd8;\n",
              "            color:  #000000;\n",
              "        }    #T_b866fba6_0cd2_11ea_bb94_0242ac1c0002row5_col3 {\n",
              "            background-color:  #fffee1;\n",
              "            color:  #000000;\n",
              "        }    #T_b866fba6_0cd2_11ea_bb94_0242ac1c0002row5_col4 {\n",
              "            background-color:  #ffffe5;\n",
              "            color:  #000000;\n",
              "        }    #T_b866fba6_0cd2_11ea_bb94_0242ac1c0002row5_col5 {\n",
              "            background-color:  #662506;\n",
              "            color:  #f1f1f1;\n",
              "        }    #T_b866fba6_0cd2_11ea_bb94_0242ac1c0002row5_col6 {\n",
              "            background-color:  #fffee1;\n",
              "            color:  #000000;\n",
              "        }    #T_b866fba6_0cd2_11ea_bb94_0242ac1c0002row5_col7 {\n",
              "            background-color:  #ffffe4;\n",
              "            color:  #000000;\n",
              "        }    #T_b866fba6_0cd2_11ea_bb94_0242ac1c0002row5_col8 {\n",
              "            background-color:  #fffddc;\n",
              "            color:  #000000;\n",
              "        }    #T_b866fba6_0cd2_11ea_bb94_0242ac1c0002row5_col9 {\n",
              "            background-color:  #fffacb;\n",
              "            color:  #000000;\n",
              "        }    #T_b866fba6_0cd2_11ea_bb94_0242ac1c0002row5_col10 {\n",
              "            background-color:  #fffddb;\n",
              "            color:  #000000;\n",
              "        }    #T_b866fba6_0cd2_11ea_bb94_0242ac1c0002row5_col11 {\n",
              "            background-color:  #fffddd;\n",
              "            color:  #000000;\n",
              "        }    #T_b866fba6_0cd2_11ea_bb94_0242ac1c0002row6_col0 {\n",
              "            background-color:  #ffface;\n",
              "            color:  #000000;\n",
              "        }    #T_b866fba6_0cd2_11ea_bb94_0242ac1c0002row6_col1 {\n",
              "            background-color:  #fffddc;\n",
              "            color:  #000000;\n",
              "        }    #T_b866fba6_0cd2_11ea_bb94_0242ac1c0002row6_col2 {\n",
              "            background-color:  #fffddd;\n",
              "            color:  #000000;\n",
              "        }    #T_b866fba6_0cd2_11ea_bb94_0242ac1c0002row6_col3 {\n",
              "            background-color:  #fffcd7;\n",
              "            color:  #000000;\n",
              "        }    #T_b866fba6_0cd2_11ea_bb94_0242ac1c0002row6_col4 {\n",
              "            background-color:  #fec14c;\n",
              "            color:  #000000;\n",
              "        }    #T_b866fba6_0cd2_11ea_bb94_0242ac1c0002row6_col5 {\n",
              "            background-color:  #fec857;\n",
              "            color:  #000000;\n",
              "        }    #T_b866fba6_0cd2_11ea_bb94_0242ac1c0002row6_col6 {\n",
              "            background-color:  #662506;\n",
              "            color:  #f1f1f1;\n",
              "        }    #T_b866fba6_0cd2_11ea_bb94_0242ac1c0002row6_col7 {\n",
              "            background-color:  #fffee0;\n",
              "            color:  #000000;\n",
              "        }    #T_b866fba6_0cd2_11ea_bb94_0242ac1c0002row6_col8 {\n",
              "            background-color:  #fffcd8;\n",
              "            color:  #000000;\n",
              "        }    #T_b866fba6_0cd2_11ea_bb94_0242ac1c0002row6_col9 {\n",
              "            background-color:  #fffaca;\n",
              "            color:  #000000;\n",
              "        }    #T_b866fba6_0cd2_11ea_bb94_0242ac1c0002row6_col10 {\n",
              "            background-color:  #fffcd7;\n",
              "            color:  #000000;\n",
              "        }    #T_b866fba6_0cd2_11ea_bb94_0242ac1c0002row6_col11 {\n",
              "            background-color:  #fff7bd;\n",
              "            color:  #000000;\n",
              "        }    #T_b866fba6_0cd2_11ea_bb94_0242ac1c0002row7_col0 {\n",
              "            background-color:  #fee697;\n",
              "            color:  #000000;\n",
              "        }    #T_b866fba6_0cd2_11ea_bb94_0242ac1c0002row7_col1 {\n",
              "            background-color:  #fea332;\n",
              "            color:  #000000;\n",
              "        }    #T_b866fba6_0cd2_11ea_bb94_0242ac1c0002row7_col2 {\n",
              "            background-color:  #fffddb;\n",
              "            color:  #000000;\n",
              "        }    #T_b866fba6_0cd2_11ea_bb94_0242ac1c0002row7_col3 {\n",
              "            background-color:  #fffedf;\n",
              "            color:  #000000;\n",
              "        }    #T_b866fba6_0cd2_11ea_bb94_0242ac1c0002row7_col4 {\n",
              "            background-color:  #fec859;\n",
              "            color:  #000000;\n",
              "        }    #T_b866fba6_0cd2_11ea_bb94_0242ac1c0002row7_col5 {\n",
              "            background-color:  #fec95b;\n",
              "            color:  #000000;\n",
              "        }    #T_b866fba6_0cd2_11ea_bb94_0242ac1c0002row7_col6 {\n",
              "            background-color:  #fffee1;\n",
              "            color:  #000000;\n",
              "        }    #T_b866fba6_0cd2_11ea_bb94_0242ac1c0002row7_col7 {\n",
              "            background-color:  #662506;\n",
              "            color:  #f1f1f1;\n",
              "        }    #T_b866fba6_0cd2_11ea_bb94_0242ac1c0002row7_col8 {\n",
              "            background-color:  #b84203;\n",
              "            color:  #f1f1f1;\n",
              "        }    #T_b866fba6_0cd2_11ea_bb94_0242ac1c0002row7_col9 {\n",
              "            background-color:  #fff8c4;\n",
              "            color:  #000000;\n",
              "        }    #T_b866fba6_0cd2_11ea_bb94_0242ac1c0002row7_col10 {\n",
              "            background-color:  #b84203;\n",
              "            color:  #f1f1f1;\n",
              "        }    #T_b866fba6_0cd2_11ea_bb94_0242ac1c0002row7_col11 {\n",
              "            background-color:  #fff9c7;\n",
              "            color:  #000000;\n",
              "        }    #T_b866fba6_0cd2_11ea_bb94_0242ac1c0002row8_col0 {\n",
              "            background-color:  #fff1b0;\n",
              "            color:  #000000;\n",
              "        }    #T_b866fba6_0cd2_11ea_bb94_0242ac1c0002row8_col1 {\n",
              "            background-color:  #9c3604;\n",
              "            color:  #f1f1f1;\n",
              "        }    #T_b866fba6_0cd2_11ea_bb94_0242ac1c0002row8_col2 {\n",
              "            background-color:  #fffbd3;\n",
              "            color:  #000000;\n",
              "        }    #T_b866fba6_0cd2_11ea_bb94_0242ac1c0002row8_col3 {\n",
              "            background-color:  #fffddd;\n",
              "            color:  #000000;\n",
              "        }    #T_b866fba6_0cd2_11ea_bb94_0242ac1c0002row8_col4 {\n",
              "            background-color:  #feca5d;\n",
              "            color:  #000000;\n",
              "        }    #T_b866fba6_0cd2_11ea_bb94_0242ac1c0002row8_col5 {\n",
              "            background-color:  #fec754;\n",
              "            color:  #000000;\n",
              "        }    #T_b866fba6_0cd2_11ea_bb94_0242ac1c0002row8_col6 {\n",
              "            background-color:  #fffddb;\n",
              "            color:  #000000;\n",
              "        }    #T_b866fba6_0cd2_11ea_bb94_0242ac1c0002row8_col7 {\n",
              "            background-color:  #b84203;\n",
              "            color:  #f1f1f1;\n",
              "        }    #T_b866fba6_0cd2_11ea_bb94_0242ac1c0002row8_col8 {\n",
              "            background-color:  #662506;\n",
              "            color:  #f1f1f1;\n",
              "        }    #T_b866fba6_0cd2_11ea_bb94_0242ac1c0002row8_col9 {\n",
              "            background-color:  #fff9c5;\n",
              "            color:  #000000;\n",
              "        }    #T_b866fba6_0cd2_11ea_bb94_0242ac1c0002row8_col10 {\n",
              "            background-color:  #662506;\n",
              "            color:  #f1f1f1;\n",
              "        }    #T_b866fba6_0cd2_11ea_bb94_0242ac1c0002row8_col11 {\n",
              "            background-color:  #fffbd0;\n",
              "            color:  #000000;\n",
              "        }    #T_b866fba6_0cd2_11ea_bb94_0242ac1c0002row9_col0 {\n",
              "            background-color:  #ffffe5;\n",
              "            color:  #000000;\n",
              "        }    #T_b866fba6_0cd2_11ea_bb94_0242ac1c0002row9_col1 {\n",
              "            background-color:  #ffffe4;\n",
              "            color:  #000000;\n",
              "        }    #T_b866fba6_0cd2_11ea_bb94_0242ac1c0002row9_col2 {\n",
              "            background-color:  #fffdd9;\n",
              "            color:  #000000;\n",
              "        }    #T_b866fba6_0cd2_11ea_bb94_0242ac1c0002row9_col3 {\n",
              "            background-color:  #fff9c6;\n",
              "            color:  #000000;\n",
              "        }    #T_b866fba6_0cd2_11ea_bb94_0242ac1c0002row9_col4 {\n",
              "            background-color:  #feb340;\n",
              "            color:  #000000;\n",
              "        }    #T_b866fba6_0cd2_11ea_bb94_0242ac1c0002row9_col5 {\n",
              "            background-color:  #fec550;\n",
              "            color:  #000000;\n",
              "        }    #T_b866fba6_0cd2_11ea_bb94_0242ac1c0002row9_col6 {\n",
              "            background-color:  #fffddb;\n",
              "            color:  #000000;\n",
              "        }    #T_b866fba6_0cd2_11ea_bb94_0242ac1c0002row9_col7 {\n",
              "            background-color:  #fffbd2;\n",
              "            color:  #000000;\n",
              "        }    #T_b866fba6_0cd2_11ea_bb94_0242ac1c0002row9_col8 {\n",
              "            background-color:  #fffbd2;\n",
              "            color:  #000000;\n",
              "        }    #T_b866fba6_0cd2_11ea_bb94_0242ac1c0002row9_col9 {\n",
              "            background-color:  #662506;\n",
              "            color:  #f1f1f1;\n",
              "        }    #T_b866fba6_0cd2_11ea_bb94_0242ac1c0002row9_col10 {\n",
              "            background-color:  #ffface;\n",
              "            color:  #000000;\n",
              "        }    #T_b866fba6_0cd2_11ea_bb94_0242ac1c0002row9_col11 {\n",
              "            background-color:  #ffffe5;\n",
              "            color:  #000000;\n",
              "        }    #T_b866fba6_0cd2_11ea_bb94_0242ac1c0002row10_col0 {\n",
              "            background-color:  #fff1b0;\n",
              "            color:  #000000;\n",
              "        }    #T_b866fba6_0cd2_11ea_bb94_0242ac1c0002row10_col1 {\n",
              "            background-color:  #9c3604;\n",
              "            color:  #f1f1f1;\n",
              "        }    #T_b866fba6_0cd2_11ea_bb94_0242ac1c0002row10_col2 {\n",
              "            background-color:  #fff9c5;\n",
              "            color:  #000000;\n",
              "        }    #T_b866fba6_0cd2_11ea_bb94_0242ac1c0002row10_col3 {\n",
              "            background-color:  #fffedf;\n",
              "            color:  #000000;\n",
              "        }    #T_b866fba6_0cd2_11ea_bb94_0242ac1c0002row10_col4 {\n",
              "            background-color:  #fecb5f;\n",
              "            color:  #000000;\n",
              "        }    #T_b866fba6_0cd2_11ea_bb94_0242ac1c0002row10_col5 {\n",
              "            background-color:  #fec652;\n",
              "            color:  #000000;\n",
              "        }    #T_b866fba6_0cd2_11ea_bb94_0242ac1c0002row10_col6 {\n",
              "            background-color:  #fffddb;\n",
              "            color:  #000000;\n",
              "        }    #T_b866fba6_0cd2_11ea_bb94_0242ac1c0002row10_col7 {\n",
              "            background-color:  #b94303;\n",
              "            color:  #f1f1f1;\n",
              "        }    #T_b866fba6_0cd2_11ea_bb94_0242ac1c0002row10_col8 {\n",
              "            background-color:  #662506;\n",
              "            color:  #f1f1f1;\n",
              "        }    #T_b866fba6_0cd2_11ea_bb94_0242ac1c0002row10_col9 {\n",
              "            background-color:  #fff8c2;\n",
              "            color:  #000000;\n",
              "        }    #T_b866fba6_0cd2_11ea_bb94_0242ac1c0002row10_col10 {\n",
              "            background-color:  #662506;\n",
              "            color:  #f1f1f1;\n",
              "        }    #T_b866fba6_0cd2_11ea_bb94_0242ac1c0002row10_col11 {\n",
              "            background-color:  #fffbcf;\n",
              "            color:  #000000;\n",
              "        }    #T_b866fba6_0cd2_11ea_bb94_0242ac1c0002row11_col0 {\n",
              "            background-color:  #fffcd8;\n",
              "            color:  #000000;\n",
              "        }    #T_b866fba6_0cd2_11ea_bb94_0242ac1c0002row11_col1 {\n",
              "            background-color:  #fedf88;\n",
              "            color:  #000000;\n",
              "        }    #T_b866fba6_0cd2_11ea_bb94_0242ac1c0002row11_col2 {\n",
              "            background-color:  #fffddd;\n",
              "            color:  #000000;\n",
              "        }    #T_b866fba6_0cd2_11ea_bb94_0242ac1c0002row11_col3 {\n",
              "            background-color:  #fff8c0;\n",
              "            color:  #000000;\n",
              "        }    #T_b866fba6_0cd2_11ea_bb94_0242ac1c0002row11_col4 {\n",
              "            background-color:  #febb47;\n",
              "            color:  #000000;\n",
              "        }    #T_b866fba6_0cd2_11ea_bb94_0242ac1c0002row11_col5 {\n",
              "            background-color:  #fecd63;\n",
              "            color:  #000000;\n",
              "        }    #T_b866fba6_0cd2_11ea_bb94_0242ac1c0002row11_col6 {\n",
              "            background-color:  #fffacd;\n",
              "            color:  #000000;\n",
              "        }    #T_b866fba6_0cd2_11ea_bb94_0242ac1c0002row11_col7 {\n",
              "            background-color:  #fffcd7;\n",
              "            color:  #000000;\n",
              "        }    #T_b866fba6_0cd2_11ea_bb94_0242ac1c0002row11_col8 {\n",
              "            background-color:  #fffddd;\n",
              "            color:  #000000;\n",
              "        }    #T_b866fba6_0cd2_11ea_bb94_0242ac1c0002row11_col9 {\n",
              "            background-color:  #ffffe5;\n",
              "            color:  #000000;\n",
              "        }    #T_b866fba6_0cd2_11ea_bb94_0242ac1c0002row11_col10 {\n",
              "            background-color:  #fffddb;\n",
              "            color:  #000000;\n",
              "        }    #T_b866fba6_0cd2_11ea_bb94_0242ac1c0002row11_col11 {\n",
              "            background-color:  #662506;\n",
              "            color:  #f1f1f1;\n",
              "        }</style><table id=\"T_b866fba6_0cd2_11ea_bb94_0242ac1c0002\" ><thead>    <tr>        <th class=\"blank level0\" ></th>        <th class=\"col_heading level0 col0\" >Age</th>        <th class=\"col_heading level0 col1\" >Balance</th>        <th class=\"col_heading level0 col2\" >Cards</th>        <th class=\"col_heading level0 col3\" >Education</th>        <th class=\"col_heading level0 col4\" >Ethnicity_Asian</th>        <th class=\"col_heading level0 col5\" >Ethnicity_Caucasian</th>        <th class=\"col_heading level0 col6\" >Gender_Female</th>        <th class=\"col_heading level0 col7\" >Income</th>        <th class=\"col_heading level0 col8\" >Limit</th>        <th class=\"col_heading level0 col9\" >Married_Yes</th>        <th class=\"col_heading level0 col10\" >Rating</th>        <th class=\"col_heading level0 col11\" >Student_Yes</th>    </tr></thead><tbody>\n",
              "                <tr>\n",
              "                        <th id=\"T_b866fba6_0cd2_11ea_bb94_0242ac1c0002level0_row0\" class=\"row_heading level0 row0\" >Age</th>\n",
              "                        <td id=\"T_b866fba6_0cd2_11ea_bb94_0242ac1c0002row0_col0\" class=\"data row0 col0\" >1</td>\n",
              "                        <td id=\"T_b866fba6_0cd2_11ea_bb94_0242ac1c0002row0_col1\" class=\"data row0 col1\" >0.002</td>\n",
              "                        <td id=\"T_b866fba6_0cd2_11ea_bb94_0242ac1c0002row0_col2\" class=\"data row0 col2\" >0.043</td>\n",
              "                        <td id=\"T_b866fba6_0cd2_11ea_bb94_0242ac1c0002row0_col3\" class=\"data row0 col3\" >0.004</td>\n",
              "                        <td id=\"T_b866fba6_0cd2_11ea_bb94_0242ac1c0002row0_col4\" class=\"data row0 col4\" >-0.06</td>\n",
              "                        <td id=\"T_b866fba6_0cd2_11ea_bb94_0242ac1c0002row0_col5\" class=\"data row0 col5\" >-0.001</td>\n",
              "                        <td id=\"T_b866fba6_0cd2_11ea_bb94_0242ac1c0002row0_col6\" class=\"data row0 col6\" >0.004</td>\n",
              "                        <td id=\"T_b866fba6_0cd2_11ea_bb94_0242ac1c0002row0_col7\" class=\"data row0 col7\" >0.175</td>\n",
              "                        <td id=\"T_b866fba6_0cd2_11ea_bb94_0242ac1c0002row0_col8\" class=\"data row0 col8\" >0.101</td>\n",
              "                        <td id=\"T_b866fba6_0cd2_11ea_bb94_0242ac1c0002row0_col9\" class=\"data row0 col9\" >-0.073</td>\n",
              "                        <td id=\"T_b866fba6_0cd2_11ea_bb94_0242ac1c0002row0_col10\" class=\"data row0 col10\" >0.103</td>\n",
              "                        <td id=\"T_b866fba6_0cd2_11ea_bb94_0242ac1c0002row0_col11\" class=\"data row0 col11\" >-0.03</td>\n",
              "            </tr>\n",
              "            <tr>\n",
              "                        <th id=\"T_b866fba6_0cd2_11ea_bb94_0242ac1c0002level0_row1\" class=\"row_heading level0 row1\" >Balance</th>\n",
              "                        <td id=\"T_b866fba6_0cd2_11ea_bb94_0242ac1c0002row1_col0\" class=\"data row1 col0\" >0.002</td>\n",
              "                        <td id=\"T_b866fba6_0cd2_11ea_bb94_0242ac1c0002row1_col1\" class=\"data row1 col1\" >1</td>\n",
              "                        <td id=\"T_b866fba6_0cd2_11ea_bb94_0242ac1c0002row1_col2\" class=\"data row1 col2\" >0.086</td>\n",
              "                        <td id=\"T_b866fba6_0cd2_11ea_bb94_0242ac1c0002row1_col3\" class=\"data row1 col3\" >-0.008</td>\n",
              "                        <td id=\"T_b866fba6_0cd2_11ea_bb94_0242ac1c0002row1_col4\" class=\"data row1 col4\" >-0.01</td>\n",
              "                        <td id=\"T_b866fba6_0cd2_11ea_bb94_0242ac1c0002row1_col5\" class=\"data row1 col5\" >-0.003</td>\n",
              "                        <td id=\"T_b866fba6_0cd2_11ea_bb94_0242ac1c0002row1_col6\" class=\"data row1 col6\" >0.021</td>\n",
              "                        <td id=\"T_b866fba6_0cd2_11ea_bb94_0242ac1c0002row1_col7\" class=\"data row1 col7\" >0.464</td>\n",
              "                        <td id=\"T_b866fba6_0cd2_11ea_bb94_0242ac1c0002row1_col8\" class=\"data row1 col8\" >0.862</td>\n",
              "                        <td id=\"T_b866fba6_0cd2_11ea_bb94_0242ac1c0002row1_col9\" class=\"data row1 col9\" >-0.006</td>\n",
              "                        <td id=\"T_b866fba6_0cd2_11ea_bb94_0242ac1c0002row1_col10\" class=\"data row1 col10\" >0.864</td>\n",
              "                        <td id=\"T_b866fba6_0cd2_11ea_bb94_0242ac1c0002row1_col11\" class=\"data row1 col11\" >0.259</td>\n",
              "            </tr>\n",
              "            <tr>\n",
              "                        <th id=\"T_b866fba6_0cd2_11ea_bb94_0242ac1c0002level0_row2\" class=\"row_heading level0 row2\" >Cards</th>\n",
              "                        <td id=\"T_b866fba6_0cd2_11ea_bb94_0242ac1c0002row2_col0\" class=\"data row2 col0\" >0.043</td>\n",
              "                        <td id=\"T_b866fba6_0cd2_11ea_bb94_0242ac1c0002row2_col1\" class=\"data row2 col1\" >0.086</td>\n",
              "                        <td id=\"T_b866fba6_0cd2_11ea_bb94_0242ac1c0002row2_col2\" class=\"data row2 col2\" >1</td>\n",
              "                        <td id=\"T_b866fba6_0cd2_11ea_bb94_0242ac1c0002row2_col3\" class=\"data row2 col3\" >-0.051</td>\n",
              "                        <td id=\"T_b866fba6_0cd2_11ea_bb94_0242ac1c0002row2_col4\" class=\"data row2 col4\" >0.006</td>\n",
              "                        <td id=\"T_b866fba6_0cd2_11ea_bb94_0242ac1c0002row2_col5\" class=\"data row2 col5\" >-0.006</td>\n",
              "                        <td id=\"T_b866fba6_0cd2_11ea_bb94_0242ac1c0002row2_col6\" class=\"data row2 col6\" >-0.023</td>\n",
              "                        <td id=\"T_b866fba6_0cd2_11ea_bb94_0242ac1c0002row2_col7\" class=\"data row2 col7\" >-0.018</td>\n",
              "                        <td id=\"T_b866fba6_0cd2_11ea_bb94_0242ac1c0002row2_col8\" class=\"data row2 col8\" >0.01</td>\n",
              "                        <td id=\"T_b866fba6_0cd2_11ea_bb94_0242ac1c0002row2_col9\" class=\"data row2 col9\" >-0.01</td>\n",
              "                        <td id=\"T_b866fba6_0cd2_11ea_bb94_0242ac1c0002row2_col10\" class=\"data row2 col10\" >0.053</td>\n",
              "                        <td id=\"T_b866fba6_0cd2_11ea_bb94_0242ac1c0002row2_col11\" class=\"data row2 col11\" >-0.026</td>\n",
              "            </tr>\n",
              "            <tr>\n",
              "                        <th id=\"T_b866fba6_0cd2_11ea_bb94_0242ac1c0002level0_row3\" class=\"row_heading level0 row3\" >Education</th>\n",
              "                        <td id=\"T_b866fba6_0cd2_11ea_bb94_0242ac1c0002row3_col0\" class=\"data row3 col0\" >0.004</td>\n",
              "                        <td id=\"T_b866fba6_0cd2_11ea_bb94_0242ac1c0002row3_col1\" class=\"data row3 col1\" >-0.008</td>\n",
              "                        <td id=\"T_b866fba6_0cd2_11ea_bb94_0242ac1c0002row3_col2\" class=\"data row3 col2\" >-0.051</td>\n",
              "                        <td id=\"T_b866fba6_0cd2_11ea_bb94_0242ac1c0002row3_col3\" class=\"data row3 col3\" >1</td>\n",
              "                        <td id=\"T_b866fba6_0cd2_11ea_bb94_0242ac1c0002row3_col4\" class=\"data row3 col4\" >0.03</td>\n",
              "                        <td id=\"T_b866fba6_0cd2_11ea_bb94_0242ac1c0002row3_col5\" class=\"data row3 col5\" >-0.038</td>\n",
              "                        <td id=\"T_b866fba6_0cd2_11ea_bb94_0242ac1c0002row3_col6\" class=\"data row3 col6\" >-0.005</td>\n",
              "                        <td id=\"T_b866fba6_0cd2_11ea_bb94_0242ac1c0002row3_col7\" class=\"data row3 col7\" >-0.028</td>\n",
              "                        <td id=\"T_b866fba6_0cd2_11ea_bb94_0242ac1c0002row3_col8\" class=\"data row3 col8\" >-0.024</td>\n",
              "                        <td id=\"T_b866fba6_0cd2_11ea_bb94_0242ac1c0002row3_col9\" class=\"data row3 col9\" >0.049</td>\n",
              "                        <td id=\"T_b866fba6_0cd2_11ea_bb94_0242ac1c0002row3_col10\" class=\"data row3 col10\" >-0.03</td>\n",
              "                        <td id=\"T_b866fba6_0cd2_11ea_bb94_0242ac1c0002row3_col11\" class=\"data row3 col11\" >0.072</td>\n",
              "            </tr>\n",
              "            <tr>\n",
              "                        <th id=\"T_b866fba6_0cd2_11ea_bb94_0242ac1c0002level0_row4\" class=\"row_heading level0 row4\" >Ethnicity_Asian</th>\n",
              "                        <td id=\"T_b866fba6_0cd2_11ea_bb94_0242ac1c0002row4_col0\" class=\"data row4 col0\" >-0.06</td>\n",
              "                        <td id=\"T_b866fba6_0cd2_11ea_bb94_0242ac1c0002row4_col1\" class=\"data row4 col1\" >-0.01</td>\n",
              "                        <td id=\"T_b866fba6_0cd2_11ea_bb94_0242ac1c0002row4_col2\" class=\"data row4 col2\" >0.006</td>\n",
              "                        <td id=\"T_b866fba6_0cd2_11ea_bb94_0242ac1c0002row4_col3\" class=\"data row4 col3\" >0.03</td>\n",
              "                        <td id=\"T_b866fba6_0cd2_11ea_bb94_0242ac1c0002row4_col4\" class=\"data row4 col4\" >1</td>\n",
              "                        <td id=\"T_b866fba6_0cd2_11ea_bb94_0242ac1c0002row4_col5\" class=\"data row4 col5\" >-0.582</td>\n",
              "                        <td id=\"T_b866fba6_0cd2_11ea_bb94_0242ac1c0002row4_col6\" class=\"data row4 col6\" >0.025</td>\n",
              "                        <td id=\"T_b866fba6_0cd2_11ea_bb94_0242ac1c0002row4_col7\" class=\"data row4 col7\" >-0.017</td>\n",
              "                        <td id=\"T_b866fba6_0cd2_11ea_bb94_0242ac1c0002row4_col8\" class=\"data row4 col8\" >-0.032</td>\n",
              "                        <td id=\"T_b866fba6_0cd2_11ea_bb94_0242ac1c0002row4_col9\" class=\"data row4 col9\" >0.089</td>\n",
              "                        <td id=\"T_b866fba6_0cd2_11ea_bb94_0242ac1c0002row4_col10\" class=\"data row4 col10\" >-0.036</td>\n",
              "                        <td id=\"T_b866fba6_0cd2_11ea_bb94_0242ac1c0002row4_col11\" class=\"data row4 col11\" >0.054</td>\n",
              "            </tr>\n",
              "            <tr>\n",
              "                        <th id=\"T_b866fba6_0cd2_11ea_bb94_0242ac1c0002level0_row5\" class=\"row_heading level0 row5\" >Ethnicity_Caucasian</th>\n",
              "                        <td id=\"T_b866fba6_0cd2_11ea_bb94_0242ac1c0002row5_col0\" class=\"data row5 col0\" >-0.001</td>\n",
              "                        <td id=\"T_b866fba6_0cd2_11ea_bb94_0242ac1c0002row5_col1\" class=\"data row5 col1\" >-0.003</td>\n",
              "                        <td id=\"T_b866fba6_0cd2_11ea_bb94_0242ac1c0002row5_col2\" class=\"data row5 col2\" >-0.006</td>\n",
              "                        <td id=\"T_b866fba6_0cd2_11ea_bb94_0242ac1c0002row5_col3\" class=\"data row5 col3\" >-0.038</td>\n",
              "                        <td id=\"T_b866fba6_0cd2_11ea_bb94_0242ac1c0002row5_col4\" class=\"data row5 col4\" >-0.582</td>\n",
              "                        <td id=\"T_b866fba6_0cd2_11ea_bb94_0242ac1c0002row5_col5\" class=\"data row5 col5\" >1</td>\n",
              "                        <td id=\"T_b866fba6_0cd2_11ea_bb94_0242ac1c0002row5_col6\" class=\"data row5 col6\" >-0.01</td>\n",
              "                        <td id=\"T_b866fba6_0cd2_11ea_bb94_0242ac1c0002row5_col7\" class=\"data row5 col7\" >-0.02</td>\n",
              "                        <td id=\"T_b866fba6_0cd2_11ea_bb94_0242ac1c0002row5_col8\" class=\"data row5 col8\" >-0.003</td>\n",
              "                        <td id=\"T_b866fba6_0cd2_11ea_bb94_0242ac1c0002row5_col9\" class=\"data row5 col9\" >0.011</td>\n",
              "                        <td id=\"T_b866fba6_0cd2_11ea_bb94_0242ac1c0002row5_col10\" class=\"data row5 col10\" >-0.001</td>\n",
              "                        <td id=\"T_b866fba6_0cd2_11ea_bb94_0242ac1c0002row5_col11\" class=\"data row5 col11\" >-0.048</td>\n",
              "            </tr>\n",
              "            <tr>\n",
              "                        <th id=\"T_b866fba6_0cd2_11ea_bb94_0242ac1c0002level0_row6\" class=\"row_heading level0 row6\" >Gender_Female</th>\n",
              "                        <td id=\"T_b866fba6_0cd2_11ea_bb94_0242ac1c0002row6_col0\" class=\"data row6 col0\" >0.004</td>\n",
              "                        <td id=\"T_b866fba6_0cd2_11ea_bb94_0242ac1c0002row6_col1\" class=\"data row6 col1\" >0.021</td>\n",
              "                        <td id=\"T_b866fba6_0cd2_11ea_bb94_0242ac1c0002row6_col2\" class=\"data row6 col2\" >-0.023</td>\n",
              "                        <td id=\"T_b866fba6_0cd2_11ea_bb94_0242ac1c0002row6_col3\" class=\"data row6 col3\" >-0.005</td>\n",
              "                        <td id=\"T_b866fba6_0cd2_11ea_bb94_0242ac1c0002row6_col4\" class=\"data row6 col4\" >0.025</td>\n",
              "                        <td id=\"T_b866fba6_0cd2_11ea_bb94_0242ac1c0002row6_col5\" class=\"data row6 col5\" >-0.01</td>\n",
              "                        <td id=\"T_b866fba6_0cd2_11ea_bb94_0242ac1c0002row6_col6\" class=\"data row6 col6\" >1</td>\n",
              "                        <td id=\"T_b866fba6_0cd2_11ea_bb94_0242ac1c0002row6_col7\" class=\"data row6 col7\" >-0.011</td>\n",
              "                        <td id=\"T_b866fba6_0cd2_11ea_bb94_0242ac1c0002row6_col8\" class=\"data row6 col8\" >0.009</td>\n",
              "                        <td id=\"T_b866fba6_0cd2_11ea_bb94_0242ac1c0002row6_col9\" class=\"data row6 col9\" >0.012</td>\n",
              "                        <td id=\"T_b866fba6_0cd2_11ea_bb94_0242ac1c0002row6_col10\" class=\"data row6 col10\" >0.009</td>\n",
              "                        <td id=\"T_b866fba6_0cd2_11ea_bb94_0242ac1c0002row6_col11\" class=\"data row6 col11\" >0.055</td>\n",
              "            </tr>\n",
              "            <tr>\n",
              "                        <th id=\"T_b866fba6_0cd2_11ea_bb94_0242ac1c0002level0_row7\" class=\"row_heading level0 row7\" >Income</th>\n",
              "                        <td id=\"T_b866fba6_0cd2_11ea_bb94_0242ac1c0002row7_col0\" class=\"data row7 col0\" >0.175</td>\n",
              "                        <td id=\"T_b866fba6_0cd2_11ea_bb94_0242ac1c0002row7_col1\" class=\"data row7 col1\" >0.464</td>\n",
              "                        <td id=\"T_b866fba6_0cd2_11ea_bb94_0242ac1c0002row7_col2\" class=\"data row7 col2\" >-0.018</td>\n",
              "                        <td id=\"T_b866fba6_0cd2_11ea_bb94_0242ac1c0002row7_col3\" class=\"data row7 col3\" >-0.028</td>\n",
              "                        <td id=\"T_b866fba6_0cd2_11ea_bb94_0242ac1c0002row7_col4\" class=\"data row7 col4\" >-0.017</td>\n",
              "                        <td id=\"T_b866fba6_0cd2_11ea_bb94_0242ac1c0002row7_col5\" class=\"data row7 col5\" >-0.02</td>\n",
              "                        <td id=\"T_b866fba6_0cd2_11ea_bb94_0242ac1c0002row7_col6\" class=\"data row7 col6\" >-0.011</td>\n",
              "                        <td id=\"T_b866fba6_0cd2_11ea_bb94_0242ac1c0002row7_col7\" class=\"data row7 col7\" >1</td>\n",
              "                        <td id=\"T_b866fba6_0cd2_11ea_bb94_0242ac1c0002row7_col8\" class=\"data row7 col8\" >0.792</td>\n",
              "                        <td id=\"T_b866fba6_0cd2_11ea_bb94_0242ac1c0002row7_col9\" class=\"data row7 col9\" >0.036</td>\n",
              "                        <td id=\"T_b866fba6_0cd2_11ea_bb94_0242ac1c0002row7_col10\" class=\"data row7 col10\" >0.791</td>\n",
              "                        <td id=\"T_b866fba6_0cd2_11ea_bb94_0242ac1c0002row7_col11\" class=\"data row7 col11\" >0.02</td>\n",
              "            </tr>\n",
              "            <tr>\n",
              "                        <th id=\"T_b866fba6_0cd2_11ea_bb94_0242ac1c0002level0_row8\" class=\"row_heading level0 row8\" >Limit</th>\n",
              "                        <td id=\"T_b866fba6_0cd2_11ea_bb94_0242ac1c0002row8_col0\" class=\"data row8 col0\" >0.101</td>\n",
              "                        <td id=\"T_b866fba6_0cd2_11ea_bb94_0242ac1c0002row8_col1\" class=\"data row8 col1\" >0.862</td>\n",
              "                        <td id=\"T_b866fba6_0cd2_11ea_bb94_0242ac1c0002row8_col2\" class=\"data row8 col2\" >0.01</td>\n",
              "                        <td id=\"T_b866fba6_0cd2_11ea_bb94_0242ac1c0002row8_col3\" class=\"data row8 col3\" >-0.024</td>\n",
              "                        <td id=\"T_b866fba6_0cd2_11ea_bb94_0242ac1c0002row8_col4\" class=\"data row8 col4\" >-0.032</td>\n",
              "                        <td id=\"T_b866fba6_0cd2_11ea_bb94_0242ac1c0002row8_col5\" class=\"data row8 col5\" >-0.003</td>\n",
              "                        <td id=\"T_b866fba6_0cd2_11ea_bb94_0242ac1c0002row8_col6\" class=\"data row8 col6\" >0.009</td>\n",
              "                        <td id=\"T_b866fba6_0cd2_11ea_bb94_0242ac1c0002row8_col7\" class=\"data row8 col7\" >0.792</td>\n",
              "                        <td id=\"T_b866fba6_0cd2_11ea_bb94_0242ac1c0002row8_col8\" class=\"data row8 col8\" >1</td>\n",
              "                        <td id=\"T_b866fba6_0cd2_11ea_bb94_0242ac1c0002row8_col9\" class=\"data row8 col9\" >0.031</td>\n",
              "                        <td id=\"T_b866fba6_0cd2_11ea_bb94_0242ac1c0002row8_col10\" class=\"data row8 col10\" >0.997</td>\n",
              "                        <td id=\"T_b866fba6_0cd2_11ea_bb94_0242ac1c0002row8_col11\" class=\"data row8 col11\" >-0.006</td>\n",
              "            </tr>\n",
              "            <tr>\n",
              "                        <th id=\"T_b866fba6_0cd2_11ea_bb94_0242ac1c0002level0_row9\" class=\"row_heading level0 row9\" >Married_Yes</th>\n",
              "                        <td id=\"T_b866fba6_0cd2_11ea_bb94_0242ac1c0002row9_col0\" class=\"data row9 col0\" >-0.073</td>\n",
              "                        <td id=\"T_b866fba6_0cd2_11ea_bb94_0242ac1c0002row9_col1\" class=\"data row9 col1\" >-0.006</td>\n",
              "                        <td id=\"T_b866fba6_0cd2_11ea_bb94_0242ac1c0002row9_col2\" class=\"data row9 col2\" >-0.01</td>\n",
              "                        <td id=\"T_b866fba6_0cd2_11ea_bb94_0242ac1c0002row9_col3\" class=\"data row9 col3\" >0.049</td>\n",
              "                        <td id=\"T_b866fba6_0cd2_11ea_bb94_0242ac1c0002row9_col4\" class=\"data row9 col4\" >0.089</td>\n",
              "                        <td id=\"T_b866fba6_0cd2_11ea_bb94_0242ac1c0002row9_col5\" class=\"data row9 col5\" >0.011</td>\n",
              "                        <td id=\"T_b866fba6_0cd2_11ea_bb94_0242ac1c0002row9_col6\" class=\"data row9 col6\" >0.012</td>\n",
              "                        <td id=\"T_b866fba6_0cd2_11ea_bb94_0242ac1c0002row9_col7\" class=\"data row9 col7\" >0.036</td>\n",
              "                        <td id=\"T_b866fba6_0cd2_11ea_bb94_0242ac1c0002row9_col8\" class=\"data row9 col8\" >0.031</td>\n",
              "                        <td id=\"T_b866fba6_0cd2_11ea_bb94_0242ac1c0002row9_col9\" class=\"data row9 col9\" >1</td>\n",
              "                        <td id=\"T_b866fba6_0cd2_11ea_bb94_0242ac1c0002row9_col10\" class=\"data row9 col10\" >0.037</td>\n",
              "                        <td id=\"T_b866fba6_0cd2_11ea_bb94_0242ac1c0002row9_col11\" class=\"data row9 col11\" >-0.077</td>\n",
              "            </tr>\n",
              "            <tr>\n",
              "                        <th id=\"T_b866fba6_0cd2_11ea_bb94_0242ac1c0002level0_row10\" class=\"row_heading level0 row10\" >Rating</th>\n",
              "                        <td id=\"T_b866fba6_0cd2_11ea_bb94_0242ac1c0002row10_col0\" class=\"data row10 col0\" >0.103</td>\n",
              "                        <td id=\"T_b866fba6_0cd2_11ea_bb94_0242ac1c0002row10_col1\" class=\"data row10 col1\" >0.864</td>\n",
              "                        <td id=\"T_b866fba6_0cd2_11ea_bb94_0242ac1c0002row10_col2\" class=\"data row10 col2\" >0.053</td>\n",
              "                        <td id=\"T_b866fba6_0cd2_11ea_bb94_0242ac1c0002row10_col3\" class=\"data row10 col3\" >-0.03</td>\n",
              "                        <td id=\"T_b866fba6_0cd2_11ea_bb94_0242ac1c0002row10_col4\" class=\"data row10 col4\" >-0.036</td>\n",
              "                        <td id=\"T_b866fba6_0cd2_11ea_bb94_0242ac1c0002row10_col5\" class=\"data row10 col5\" >-0.001</td>\n",
              "                        <td id=\"T_b866fba6_0cd2_11ea_bb94_0242ac1c0002row10_col6\" class=\"data row10 col6\" >0.009</td>\n",
              "                        <td id=\"T_b866fba6_0cd2_11ea_bb94_0242ac1c0002row10_col7\" class=\"data row10 col7\" >0.791</td>\n",
              "                        <td id=\"T_b866fba6_0cd2_11ea_bb94_0242ac1c0002row10_col8\" class=\"data row10 col8\" >0.997</td>\n",
              "                        <td id=\"T_b866fba6_0cd2_11ea_bb94_0242ac1c0002row10_col9\" class=\"data row10 col9\" >0.037</td>\n",
              "                        <td id=\"T_b866fba6_0cd2_11ea_bb94_0242ac1c0002row10_col10\" class=\"data row10 col10\" >1</td>\n",
              "                        <td id=\"T_b866fba6_0cd2_11ea_bb94_0242ac1c0002row10_col11\" class=\"data row10 col11\" >-0.002</td>\n",
              "            </tr>\n",
              "            <tr>\n",
              "                        <th id=\"T_b866fba6_0cd2_11ea_bb94_0242ac1c0002level0_row11\" class=\"row_heading level0 row11\" >Student_Yes</th>\n",
              "                        <td id=\"T_b866fba6_0cd2_11ea_bb94_0242ac1c0002row11_col0\" class=\"data row11 col0\" >-0.03</td>\n",
              "                        <td id=\"T_b866fba6_0cd2_11ea_bb94_0242ac1c0002row11_col1\" class=\"data row11 col1\" >0.259</td>\n",
              "                        <td id=\"T_b866fba6_0cd2_11ea_bb94_0242ac1c0002row11_col2\" class=\"data row11 col2\" >-0.026</td>\n",
              "                        <td id=\"T_b866fba6_0cd2_11ea_bb94_0242ac1c0002row11_col3\" class=\"data row11 col3\" >0.072</td>\n",
              "                        <td id=\"T_b866fba6_0cd2_11ea_bb94_0242ac1c0002row11_col4\" class=\"data row11 col4\" >0.054</td>\n",
              "                        <td id=\"T_b866fba6_0cd2_11ea_bb94_0242ac1c0002row11_col5\" class=\"data row11 col5\" >-0.048</td>\n",
              "                        <td id=\"T_b866fba6_0cd2_11ea_bb94_0242ac1c0002row11_col6\" class=\"data row11 col6\" >0.055</td>\n",
              "                        <td id=\"T_b866fba6_0cd2_11ea_bb94_0242ac1c0002row11_col7\" class=\"data row11 col7\" >0.02</td>\n",
              "                        <td id=\"T_b866fba6_0cd2_11ea_bb94_0242ac1c0002row11_col8\" class=\"data row11 col8\" >-0.006</td>\n",
              "                        <td id=\"T_b866fba6_0cd2_11ea_bb94_0242ac1c0002row11_col9\" class=\"data row11 col9\" >-0.077</td>\n",
              "                        <td id=\"T_b866fba6_0cd2_11ea_bb94_0242ac1c0002row11_col10\" class=\"data row11 col10\" >-0.002</td>\n",
              "                        <td id=\"T_b866fba6_0cd2_11ea_bb94_0242ac1c0002row11_col11\" class=\"data row11 col11\" >1</td>\n",
              "            </tr>\n",
              "    </tbody></table>"
            ],
            "text/plain": [
              "<pandas.io.formats.style.Styler at 0x7f9fc4e69f28>"
            ]
          },
          "metadata": {
            "tags": []
          },
          "execution_count": 16
        }
      ]
    },
    {
      "cell_type": "markdown",
      "metadata": {
        "id": "DPvzsWxAqlRn",
        "colab_type": "text"
      },
      "source": [
        "## scatterplots por medio de una función"
      ]
    },
    {
      "cell_type": "code",
      "metadata": {
        "id": "AqC0uSWHZLMM",
        "colab_type": "code",
        "colab": {}
      },
      "source": [
        "def graficos (i,j):\n",
        "\n",
        "  cred=plt.figure(figsize=(20,7))\n",
        "  sns.scatterplot(x=creditos[i],y=creditos[j])\n",
        "  #plt.title(\"Relación entre\"+ i +\"y\" j,fontsize=14)\n",
        "  plt.show()\n"
      ],
      "execution_count": 0,
      "outputs": []
    },
    {
      "cell_type": "markdown",
      "metadata": {
        "id": "cyMoTsRxeNL-",
        "colab_type": "text"
      },
      "source": [
        "**Variables para revisar en la función graficos:**\n",
        "\n",
        "* `Income`: Ingreso anual disponible en miles de dólares.\n",
        "* `Limit`: Límite del crédito.\n",
        "* `Rating`: Ranking del crédito.\n",
        "* `Cards`: Cantidad de tarjetas de crédito.\n",
        "* `Age`: Edad del usuario.\n",
        "* `Education`: Años de educación del usuario.\n",
        "* `Gender`: ¿Hombre o mujer?\n",
        "* `Student`: ¿Es estudiante?\n",
        "* `Married`: ¿Está casado?\n",
        "* `Ethnicity`: Etnicidad del usuario (Caucásico, Afroamericano, Asiático)\n",
        "* `Balance`: Promedio de deuda en tarjeta de crédito de usuario.\n"
      ]
    },
    {
      "cell_type": "code",
      "metadata": {
        "id": "u9y3v7EmagfT",
        "colab_type": "code",
        "outputId": "4cb1f79a-b465-474e-e3b9-8dd4cd2af520",
        "colab": {
          "base_uri": "https://localhost:8080/",
          "height": 442
        }
      },
      "source": [
        "graficos (\"Rating\",\"Limit\")"
      ],
      "execution_count": 0,
      "outputs": [
        {
          "output_type": "display_data",
          "data": {
            "image/png": "[encoded data removed]",
            "text/plain": [
              "<Figure size 1440x504 with 1 Axes>"
            ]
          },
          "metadata": {
            "tags": []
          }
        }
      ]
    },
    {
      "cell_type": "markdown",
      "metadata": {
        "id": "kC9Bg7S_qy9a",
        "colab_type": "text"
      },
      "source": [
        "# Punto 5"
      ]
    },
    {
      "cell_type": "markdown",
      "metadata": {
        "id": "uJJ0nryAsBAt",
        "colab_type": "text"
      },
      "source": [
        "## Generacion de histogramas y que además identifique de manera visual la media y mediana. "
      ]
    },
    {
      "cell_type": "code",
      "metadata": {
        "id": "Vkz8gbUHtsLD",
        "colab_type": "code",
        "colab": {}
      },
      "source": [
        "def histograma (df,et):\n",
        "\n",
        "#para crear las variables de media y mediana\n",
        "  data=df[et]\n",
        "  maxi=data.max()\n",
        "  mini=data.min()\n",
        "  r=maxi-mini\n",
        "  mean = data.mean()\n",
        "  median = data.median()  \n",
        "  n=data.shape[0]\n",
        "  k=1+3.322*np.log(n)\n",
        "  if int(k)%2==0:\n",
        "    k=int(k)+1\n",
        "  else:\n",
        "    k=int(k)    \n",
        "\n",
        "#para plotear el histograma\n",
        "  plt.figure(figsize=(15,8))\n",
        "  datau=data.plot(kind=\"hist\", color='yellow',log=False,label=True).set_title(\"Distribucion de frecuencia {0}\".format(et.upper()),fontsize=20, color='blue')\n",
        "  plt.axvline(mean, color='b', linestyle='--')\n",
        "  plt.axvline(median, color='r', linestyle='--')\n",
        "  data=pd.cut(data,k, precision=0).value_counts().sort_index()\n",
        "  data=data.to_frame()\n",
        "\n",
        "\n",
        "#para imprimir los datos de la media y mediana\n",
        "  print(f\"La media es : {(mean)}\")\n",
        "  print(f\"La mediana es : {(median)}\") \n",
        "  \n",
        "  return data\n",
        "\n"
      ],
      "execution_count": 0,
      "outputs": []
    },
    {
      "cell_type": "markdown",
      "metadata": {
        "id": "4KTukFjlwOVm",
        "colab_type": "text"
      },
      "source": [
        "**Variables para revisar en la función histogramas:**\n",
        "\n",
        "dataframe: creditos\n",
        "\n",
        "* `Income`: Ingreso anual disponible en miles de dólares.\n",
        "* `Rating`: Ranking del crédito.\n",
        "* `Cards`: Cantidad de tarjetas de crédito.\n",
        "* `Balance`: Promedio de deuda en tarjeta de crédito de usuario."
      ]
    },
    {
      "cell_type": "code",
      "metadata": {
        "id": "HikO6V6vuHcV",
        "colab_type": "code",
        "outputId": "9ac05f0e-6265-49e7-c33b-eebd21921872",
        "colab": {
          "base_uri": "https://localhost:8080/",
          "height": 540
        }
      },
      "source": [
        "histograma(creditos,\"Rating\");"
      ],
      "execution_count": 0,
      "outputs": [
        {
          "output_type": "stream",
          "text": [
            "La media es : 354.94\n",
            "La mediana es : 344.0\n"
          ],
          "name": "stdout"
        },
        {
          "output_type": "display_data",
          "data": {
            "image/png": "[encoded data removed]",
            "text/plain": [
              "<Figure size 1080x576 with 1 Axes>"
            ]
          },
          "metadata": {
            "tags": []
          }
        }
      ]
    },
    {
      "cell_type": "markdown",
      "metadata": {
        "id": "a8L886o9xpzD",
        "colab_type": "text"
      },
      "source": [
        "\n",
        "\n",
        "*   **Balance:** la frecuencia en promedio de deuda personal se observa que incrementa  rapido, pero posteriomente existe una menor frecuencia a medida que el promedio de deuda personal aumenta\n",
        "\n",
        "*   **Income:** la frecuencia en el ingreso anual se ve que crece muy rapido pero esta decae mientras los sueldos son mas y mas altos.\n",
        "\n",
        "*   **Cards:** la mayor parte de frecuencia en la cantidad de tarjetas por persona esta entre 2 y 3 tarjetas, donde la media y mediana está en las 3 tarjetas. No hay frecuencia con 4 tarjetas y posterior a 5 tarjetas la frecuencia va desapareciendo hasta llegar a 8 tarjetas.\n",
        "\n",
        "*   **Rating:** podemos observar que la mayor frecuencia la concentran personas que se encuentran bajo los 500 puntos de rating, ademas la media y mediana se encuentran entre los 350 puntos. Muy poca frecuencia tiene mejor rating y por ende mejores opciones de credito por ser personas con menor riesgo de no pago.\n",
        "\n",
        "\n",
        "\n",
        "\n"
      ]
    },
    {
      "cell_type": "markdown",
      "metadata": {
        "id": "tNrk62hxxmcT",
        "colab_type": "text"
      },
      "source": [
        "\n",
        "  # \"Rating\" aqui se puede observar que la media del universo tiene un credito malo y que un poco porcentaje de la muestra tiene un credito justo bueno o excelente\n",
        "    # Por debajo de 600 puntos: mal crédito\n",
        "    #Entre 600 y 649 puntos: crédito pobre\n",
        "    #Entre 650 y 699 puntos: crédito justo\n",
        "    #Entre 700 y 749 puntos: buen crédito\n",
        "    #750 y más puntos: excelente crédito\n",
        "  # \"Cards\" el promedio de la gente tiene entre 2 y 3 tarjeta de credito."
      ]
    },
    {
      "cell_type": "markdown",
      "metadata": {
        "id": "jf9N_usj-OIf",
        "colab_type": "text"
      },
      "source": [
        "# Punto6"
      ]
    },
    {
      "cell_type": "markdown",
      "metadata": {
        "id": "2d4-WP6L02Ky",
        "colab_type": "text"
      },
      "source": [
        "## Regresion Lineal"
      ]
    },
    {
      "cell_type": "markdown",
      "metadata": {
        "id": "uLQzciW81AUc",
        "colab_type": "text"
      },
      "source": [
        "### Regresion de Balance con Student"
      ]
    },
    {
      "cell_type": "code",
      "metadata": {
        "id": "FLFHVT3L-Qoa",
        "colab_type": "code",
        "outputId": "b70ef256-fd55-4283-ca68-0847a4beaa57",
        "colab": {
          "base_uri": "https://localhost:8080/",
          "height": 496
        }
      },
      "source": [
        "X = creditos01[\"Student_Yes\"]\n",
        "Y = creditos01['Balance']\n",
        "\n",
        "X = sm.add_constant(X) \n",
        "\n",
        "model = sm.OLS(Y, X).fit()\n",
        "predictions = model.predict(X) \n",
        "\n",
        "print_model = model.summary()\n",
        "print(print_model)"
      ],
      "execution_count": 0,
      "outputs": [
        {
          "output_type": "stream",
          "text": [
            "                            OLS Regression Results                            \n",
            "==============================================================================\n",
            "Dep. Variable:                Balance   R-squared:                       0.067\n",
            "Model:                            OLS   Adj. R-squared:                  0.065\n",
            "Method:                 Least Squares   F-statistic:                     28.62\n",
            "Date:                Fri, 22 Nov 2019   Prob (F-statistic):           1.49e-07\n",
            "Time:                        02:49:37   Log-Likelihood:                -3005.5\n",
            "No. Observations:                 400   AIC:                             6015.\n",
            "Df Residuals:                     398   BIC:                             6023.\n",
            "Df Model:                           1                                         \n",
            "Covariance Type:            nonrobust                                         \n",
            "===============================================================================\n",
            "                  coef    std err          t      P>|t|      [0.025      0.975]\n",
            "-------------------------------------------------------------------------------\n",
            "const         480.3694     23.434     20.499      0.000     434.300     526.439\n",
            "Student_Yes   396.4556     74.104      5.350      0.000     250.771     542.140\n",
            "==============================================================================\n",
            "Omnibus:                       20.866   Durbin-Watson:                   1.950\n",
            "Prob(Omnibus):                  0.000   Jarque-Bera (JB):               21.920\n",
            "Skew:                           0.544   Prob(JB):                     1.74e-05\n",
            "Kurtosis:                       2.637   Cond. No.                         3.37\n",
            "==============================================================================\n",
            "\n",
            "Warnings:\n",
            "[1] Standard Errors assume that the covariance matrix of the errors is correctly specified.\n"
          ],
          "name": "stdout"
        },
        {
          "output_type": "stream",
          "text": [
            "/usr/local/lib/python3.6/dist-packages/numpy/core/fromnumeric.py:2495: FutureWarning: Method .ptp is deprecated and will be removed in a future version. Use numpy.ptp instead.\n",
            "  return ptp(axis=axis, out=out, **kwargs)\n"
          ],
          "name": "stderr"
        }
      ]
    },
    {
      "cell_type": "markdown",
      "metadata": {
        "id": "PanbAt_H35z9",
        "colab_type": "text"
      },
      "source": [
        "### Regresion de balance con income"
      ]
    },
    {
      "cell_type": "code",
      "metadata": {
        "id": "pwUHR0QzGQpI",
        "colab_type": "code",
        "outputId": "b72c7115-49ae-4a8c-e319-9f67b0b07780",
        "colab": {
          "base_uri": "https://localhost:8080/",
          "height": 496
        }
      },
      "source": [
        "X = creditos01[\"Income\"]# here we have 2 variables for multiple regression. If you just want to use one variable for simple linear regression, then use X = df['Interest_Rate'] for example.Alternatively, you may add additional variables within the brackets\n",
        "Y = creditos01['Balance']\n",
        "\n",
        "X = sm.add_constant(X) # adding a constant\n",
        "\n",
        "model = sm.OLS(Y, X).fit()\n",
        "predictions = model.predict(X) \n",
        "\n",
        "print_model = model.summary()\n",
        "print(print_model)"
      ],
      "execution_count": 0,
      "outputs": [
        {
          "output_type": "stream",
          "text": [
            "                            OLS Regression Results                            \n",
            "==============================================================================\n",
            "Dep. Variable:                Balance   R-squared:                       0.215\n",
            "Model:                            OLS   Adj. R-squared:                  0.213\n",
            "Method:                 Least Squares   F-statistic:                     109.0\n",
            "Date:                Fri, 22 Nov 2019   Prob (F-statistic):           1.03e-22\n",
            "Time:                        02:49:37   Log-Likelihood:                -2970.9\n",
            "No. Observations:                 400   AIC:                             5946.\n",
            "Df Residuals:                     398   BIC:                             5954.\n",
            "Df Model:                           1                                         \n",
            "Covariance Type:            nonrobust                                         \n",
            "==============================================================================\n",
            "                 coef    std err          t      P>|t|      [0.025      0.975]\n",
            "------------------------------------------------------------------------------\n",
            "const        246.5148     33.199      7.425      0.000     181.247     311.783\n",
            "Income         6.0484      0.579     10.440      0.000       4.909       7.187\n",
            "==============================================================================\n",
            "Omnibus:                       42.505   Durbin-Watson:                   1.951\n",
            "Prob(Omnibus):                  0.000   Jarque-Bera (JB):               20.975\n",
            "Skew:                           0.384   Prob(JB):                     2.79e-05\n",
            "Kurtosis:                       2.182   Cond. No.                         93.3\n",
            "==============================================================================\n",
            "\n",
            "Warnings:\n",
            "[1] Standard Errors assume that the covariance matrix of the errors is correctly specified.\n"
          ],
          "name": "stdout"
        },
        {
          "output_type": "stream",
          "text": [
            "/usr/local/lib/python3.6/dist-packages/numpy/core/fromnumeric.py:2495: FutureWarning: Method .ptp is deprecated and will be removed in a future version. Use numpy.ptp instead.\n",
            "  return ptp(axis=axis, out=out, **kwargs)\n"
          ],
          "name": "stderr"
        }
      ]
    },
    {
      "cell_type": "markdown",
      "metadata": {
        "id": "vNbqEnH-3_v2",
        "colab_type": "text"
      },
      "source": [
        "### Regresion de balance con Rating"
      ]
    },
    {
      "cell_type": "code",
      "metadata": {
        "id": "0DhG1fXRGZf6",
        "colab_type": "code",
        "outputId": "c7584306-f390-4565-c94d-663220644b4f",
        "colab": {
          "base_uri": "https://localhost:8080/",
          "height": 496
        }
      },
      "source": [
        "X = creditos01[\"Rating\"]# here we have 2 variables for multiple regression. If you just want to use one variable for simple linear regression, then use X = df['Interest_Rate'] for example.Alternatively, you may add additional variables within the brackets\n",
        "Y = creditos01['Balance']\n",
        "\n",
        "X = sm.add_constant(X) # adding a constant\n",
        "\n",
        "model = sm.OLS(Y, X).fit()\n",
        "predictions = model.predict(X) \n",
        "\n",
        "print_model = model.summary()\n",
        "print(print_model)"
      ],
      "execution_count": 0,
      "outputs": [
        {
          "output_type": "stream",
          "text": [
            "                            OLS Regression Results                            \n",
            "==============================================================================\n",
            "Dep. Variable:                Balance   R-squared:                       0.746\n",
            "Model:                            OLS   Adj. R-squared:                  0.745\n",
            "Method:                 Least Squares   F-statistic:                     1168.\n",
            "Date:                Fri, 22 Nov 2019   Prob (F-statistic):          1.90e-120\n",
            "Time:                        02:49:37   Log-Likelihood:                -2745.4\n",
            "No. Observations:                 400   AIC:                             5495.\n",
            "Df Residuals:                     398   BIC:                             5503.\n",
            "Df Model:                           1                                         \n",
            "Covariance Type:            nonrobust                                         \n",
            "==============================================================================\n",
            "                 coef    std err          t      P>|t|      [0.025      0.975]\n",
            "------------------------------------------------------------------------------\n",
            "const       -390.8463     29.069    -13.446      0.000    -447.993    -333.699\n",
            "Rating         2.5662      0.075     34.176      0.000       2.419       2.714\n",
            "==============================================================================\n",
            "Omnibus:                       23.223   Durbin-Watson:                   1.966\n",
            "Prob(Omnibus):                  0.000   Jarque-Bera (JB):               38.802\n",
            "Skew:                           0.390   Prob(JB):                     3.75e-09\n",
            "Kurtosis:                       4.311   Cond. No.                         970.\n",
            "==============================================================================\n",
            "\n",
            "Warnings:\n",
            "[1] Standard Errors assume that the covariance matrix of the errors is correctly specified.\n"
          ],
          "name": "stdout"
        },
        {
          "output_type": "stream",
          "text": [
            "/usr/local/lib/python3.6/dist-packages/numpy/core/fromnumeric.py:2495: FutureWarning: Method .ptp is deprecated and will be removed in a future version. Use numpy.ptp instead.\n",
            "  return ptp(axis=axis, out=out, **kwargs)\n"
          ],
          "name": "stderr"
        }
      ]
    },
    {
      "cell_type": "markdown",
      "metadata": {
        "id": "mfBQVXEI4JBG",
        "colab_type": "text"
      },
      "source": [
        "### conclusion punto 6 "
      ]
    },
    {
      "cell_type": "markdown",
      "metadata": {
        "id": "bT6awH5u4MHS",
        "colab_type": "text"
      },
      "source": [
        "podemos comprar las 3 regresiones y según R-squared de las 3 variables compraradas, la que es mas influyente en balance es rating ya que es la que por lejos se acerca mas al valor 1"
      ]
    },
    {
      "cell_type": "markdown",
      "metadata": {
        "id": "MOlI6G0RGqfb",
        "colab_type": "text"
      },
      "source": [
        "# Punto7"
      ]
    },
    {
      "cell_type": "markdown",
      "metadata": {
        "id": "0bKAdKhj6UYt",
        "colab_type": "text"
      },
      "source": [
        "## regresion de balance con multiples variables "
      ]
    },
    {
      "cell_type": "code",
      "metadata": {
        "id": "Rkur4Et6GsgR",
        "colab_type": "code",
        "outputId": "2152e3a2-f672-4dd2-a435-62bc46f371fc",
        "colab": {
          "base_uri": "https://localhost:8080/",
          "height": 710
        }
      },
      "source": [
        "X = creditos01[['Age','Cards', 'Education', 'Ethnicity_Asian','Ethnicity_Caucasian', 'Gender_Female', 'Income', 'Limit','Married_Yes', 'Rating', 'Student_Yes']]\n",
        "Y = creditos01['Balance']\n",
        "\n",
        "X = sm.add_constant(X)\n",
        "\n",
        "model = sm.OLS(Y, X).fit()\n",
        "predictions = model.predict(X) \n",
        "\n",
        "print_model = model.summary()\n",
        "print(print_model)"
      ],
      "execution_count": 0,
      "outputs": [
        {
          "output_type": "stream",
          "text": [
            "                            OLS Regression Results                            \n",
            "==============================================================================\n",
            "Dep. Variable:                Balance   R-squared:                       0.955\n",
            "Model:                            OLS   Adj. R-squared:                  0.954\n",
            "Method:                 Least Squares   F-statistic:                     750.3\n",
            "Date:                Fri, 22 Nov 2019   Prob (F-statistic):          1.11e-253\n",
            "Time:                        02:49:37   Log-Likelihood:                -2398.7\n",
            "No. Observations:                 400   AIC:                             4821.\n",
            "Df Residuals:                     388   BIC:                             4869.\n",
            "Df Model:                          11                                         \n",
            "Covariance Type:            nonrobust                                         \n",
            "=======================================================================================\n",
            "                          coef    std err          t      P>|t|      [0.025      0.975]\n",
            "---------------------------------------------------------------------------------------\n",
            "const                -479.2079     35.774    -13.395      0.000    -549.543    -408.873\n",
            "Age                    -0.6139      0.294     -2.088      0.037      -1.192      -0.036\n",
            "Cards                  17.7245      4.341      4.083      0.000       9.190      26.259\n",
            "Education              -1.0989      1.598     -0.688      0.492      -4.241       2.043\n",
            "Ethnicity_Asian        16.8042     14.119      1.190      0.235     -10.955      44.564\n",
            "Ethnicity_Caucasian    10.1070     12.210      0.828      0.408     -13.899      34.113\n",
            "Gender_Female         -10.6532      9.914     -1.075      0.283     -30.145       8.839\n",
            "Income                 -7.8031      0.234    -33.314      0.000      -8.264      -7.343\n",
            "Limit                   0.1909      0.033      5.824      0.000       0.126       0.255\n",
            "Married_Yes            -8.5339     10.363     -0.824      0.411     -28.908      11.841\n",
            "Rating                  1.1365      0.491      2.315      0.021       0.171       2.102\n",
            "Student_Yes           425.7474     16.723     25.459      0.000     392.869     458.626\n",
            "==============================================================================\n",
            "Omnibus:                       34.899   Durbin-Watson:                   1.968\n",
            "Prob(Omnibus):                  0.000   Jarque-Bera (JB):               41.766\n",
            "Skew:                           0.782   Prob(JB):                     8.52e-10\n",
            "Kurtosis:                       3.241   Cond. No.                     3.87e+04\n",
            "==============================================================================\n",
            "\n",
            "Warnings:\n",
            "[1] Standard Errors assume that the covariance matrix of the errors is correctly specified.\n",
            "[2] The condition number is large, 3.87e+04. This might indicate that there are\n",
            "strong multicollinearity or other numerical problems.\n"
          ],
          "name": "stdout"
        },
        {
          "output_type": "stream",
          "text": [
            "/usr/local/lib/python3.6/dist-packages/numpy/core/fromnumeric.py:2495: FutureWarning: Method .ptp is deprecated and will be removed in a future version. Use numpy.ptp instead.\n",
            "  return ptp(axis=axis, out=out, **kwargs)\n"
          ],
          "name": "stderr"
        }
      ]
    },
    {
      "cell_type": "markdown",
      "metadata": {
        "id": "eILz2A7w6j4V",
        "colab_type": "text"
      },
      "source": [
        "podemos observar que en este modelo al 95% (no se consideran el 2.5% de los extremos) que se encuentra bastante ajustado para ser considerado como correcto ya que se encuentra cercano al 1 el R-squared, si fuera 1 el modelo estaria sobre ajustado a la realidad y solo serviria para predecir las variables revisadas y no para otros modelos"
      ]
    },
    {
      "cell_type": "markdown",
      "metadata": {
        "id": "uS2buDpFwsPZ",
        "colab_type": "text"
      },
      "source": [
        "# Punto 8\n"
      ]
    },
    {
      "cell_type": "markdown",
      "metadata": {
        "id": "eojeL35c8rK-",
        "colab_type": "text"
      },
      "source": [
        "## Las tres principales determinantes de la regresion"
      ]
    },
    {
      "cell_type": "code",
      "metadata": {
        "id": "P2frVfpjwv9D",
        "colab_type": "code",
        "outputId": "be76b91d-1940-4658-decd-504b3fc3164b",
        "colab": {
          "base_uri": "https://localhost:8080/",
          "height": 368
        }
      },
      "source": [
        "sns.lmplot(x='Student_Yes', y=\"Balance\", data=creditos01,aspect=.9);"
      ],
      "execution_count": 0,
      "outputs": [
        {
          "output_type": "display_data",
          "data": {
            "image/png": "[encoded data removed]",
            "text/plain": [
              "<Figure size 324x360 with 1 Axes>"
            ]
          },
          "metadata": {
            "tags": []
          }
        }
      ]
    },
    {
      "cell_type": "code",
      "metadata": {
        "id": "16G_BIM284M_",
        "colab_type": "code",
        "outputId": "7ffb77c4-d397-4558-f150-91e3f1537334",
        "colab": {
          "base_uri": "https://localhost:8080/",
          "height": 368
        }
      },
      "source": [
        "sns.lmplot(x='Cards', y=\"Balance\", data=creditos01,aspect=.9);"
      ],
      "execution_count": 0,
      "outputs": [
        {
          "output_type": "display_data",
          "data": {
            "image/png": "[encoded data removed]",
            "text/plain": [
              "<Figure size 324x360 with 1 Axes>"
            ]
          },
          "metadata": {
            "tags": []
          }
        }
      ]
    },
    {
      "cell_type": "code",
      "metadata": {
        "id": "iAJMg3v29B2a",
        "colab_type": "code",
        "outputId": "c37b655c-1d1f-4fa5-f00f-cf9b148c76ed",
        "colab": {
          "base_uri": "https://localhost:8080/",
          "height": 368
        }
      },
      "source": [
        "sns.lmplot(x='Ethnicity_Asian', y=\"Balance\", data=creditos01,aspect=.9);"
      ],
      "execution_count": 0,
      "outputs": [
        {
          "output_type": "display_data",
          "data": {
            "image/png": "[encoded data removed]",
            "text/plain": [
              "<Figure size 324x360 with 1 Axes>"
            ]
          },
          "metadata": {
            "tags": []
          }
        }
      ]
    },
    {
      "cell_type": "markdown",
      "metadata": {
        "id": "w8WpICz-Xwu6",
        "colab_type": "text"
      },
      "source": [
        "# Punto 9\n"
      ]
    },
    {
      "cell_type": "code",
      "metadata": {
        "id": "YjMQExHeXaix",
        "colab_type": "code",
        "outputId": "b0592528-8069-49fd-b137-cbbb0aa948fb",
        "colab": {
          "base_uri": "https://localhost:8080/",
          "height": 621
        }
      },
      "source": [
        "X = creditos01[['Cards', 'Education','Income', 'Limit', 'Rating', 'Student_Yes']]\n",
        "Y = creditos01['Balance']\n",
        "\n",
        "X = sm.add_constant(X)\n",
        "\n",
        "model = sm.OLS(Y, X).fit()\n",
        "predictions = model.predict(X) \n",
        "\n",
        "\n",
        "print_model = model.summary()\n",
        "print(print_model)"
      ],
      "execution_count": 0,
      "outputs": [
        {
          "output_type": "stream",
          "text": [
            "                            OLS Regression Results                            \n",
            "==============================================================================\n",
            "Dep. Variable:                Balance   R-squared:                       0.954\n",
            "Model:                            OLS   Adj. R-squared:                  0.954\n",
            "Method:                 Least Squares   F-statistic:                     1366.\n",
            "Date:                Fri, 22 Nov 2019   Prob (F-statistic):          1.15e-259\n",
            "Time:                        02:49:38   Log-Likelihood:                -2402.5\n",
            "No. Observations:                 400   AIC:                             4819.\n",
            "Df Residuals:                     393   BIC:                             4847.\n",
            "Df Model:                           6                                         \n",
            "Covariance Type:            nonrobust                                         \n",
            "===============================================================================\n",
            "                  coef    std err          t      P>|t|      [0.025      0.975]\n",
            "-------------------------------------------------------------------------------\n",
            "const        -508.7119     30.287    -16.797      0.000    -568.256    -449.168\n",
            "Cards          17.8452      4.337      4.114      0.000       9.318      26.372\n",
            "Education      -1.2148      1.599     -0.760      0.448      -4.358       1.928\n",
            "Income         -7.8775      0.232    -34.013      0.000      -8.333      -7.422\n",
            "Limit           0.1962      0.033      6.013      0.000       0.132       0.260\n",
            "Rating          1.0610      0.489      2.172      0.030       0.101       2.022\n",
            "Student_Yes   427.8211     16.632     25.723      0.000     395.122     460.520\n",
            "==============================================================================\n",
            "Omnibus:                       30.069   Durbin-Watson:                   1.949\n",
            "Prob(Omnibus):                  0.000   Jarque-Bera (JB):               35.030\n",
            "Skew:                           0.720   Prob(JB):                     2.47e-08\n",
            "Kurtosis:                       3.163   Cond. No.                     3.23e+04\n",
            "==============================================================================\n",
            "\n",
            "Warnings:\n",
            "[1] Standard Errors assume that the covariance matrix of the errors is correctly specified.\n",
            "[2] The condition number is large, 3.23e+04. This might indicate that there are\n",
            "strong multicollinearity or other numerical problems.\n"
          ],
          "name": "stdout"
        },
        {
          "output_type": "stream",
          "text": [
            "/usr/local/lib/python3.6/dist-packages/numpy/core/fromnumeric.py:2495: FutureWarning: Method .ptp is deprecated and will be removed in a future version. Use numpy.ptp instead.\n",
            "  return ptp(axis=axis, out=out, **kwargs)\n"
          ],
          "name": "stderr"
        }
      ]
    },
    {
      "cell_type": "markdown",
      "metadata": {
        "id": "0Vz-NSJY7tta",
        "colab_type": "text"
      },
      "source": [
        "Apesar que no se consideraron las variables que estaban sobre 0.025 en P values, cambio demasiado poco el R-Squared, de 0,955 a 0,954, lo que significa que las variables que no consideramos en esta ocasion, no son influyentes en el modelo de regresion que tenemos."
      ]
    }
  ]
}